{
 "cells": [
  {
   "cell_type": "markdown",
   "metadata": {},
   "source": [
    "# Analisis Data COVID19 di Indonesia\n",
    "\n",
    "## Latar Belakang Project\n",
    "COVID-19 merupakan penyakit yang saat ini telah menjadi pandemi secara global. Kondisi menjadi semakin mengkhawatirkan karena hingga detik ini masih belum ditemukan vaksin yang efektif untuk virus penyebab COVID-19. Pemerintah di berbagai negara umumnya dengan sigap membentuk gugus tugas (task force unit) untuk menangani penyebaran COVID-19 di masyarakat, termasuk pemerintah di Indonesia.\n",
    "\n",
    "Salah satu bentuk aksi yang dilakukan oleh pemerintah adalah dengan mengumpulkan dan menyediakan data pertumbuhan kasus COVID-19 kepada publik. Data pertumbuhan kasus tersebut tidak jarang juga dilengkapi dengan dasbor dan grafik visualisasi pendukung dengan harapan masyarakat dapat memahami informasi dengan lebih mudah. Sebagai contoh adalah portal covid19.go.id besutan Gugus Tugas Penanganan COVID-19 Nasional dan portal PIKOBAR milik pemerintah Provinsi Jawa Barat. Serta banyak portal data COVID-19 lainnya yang disediakan oleh masing-masing pemerintah daerah."
   ]
  },
  {
   "cell_type": "markdown",
   "metadata": {},
   "source": [
    "## Mengakses API covid.go.id"
   ]
  },
  {
   "cell_type": "code",
   "execution_count": 1,
   "metadata": {},
   "outputs": [
    {
     "name": "stderr",
     "output_type": "stream",
     "text": [
      "Warning message:\n",
      "\"package 'httr' was built under R version 3.6.3\""
     ]
    }
   ],
   "source": [
    "library(httr)\n",
    "resp <- GET (\"https://data.covid19.go.id/public/api/update.json\")"
   ]
  },
  {
   "cell_type": "code",
   "execution_count": 2,
   "metadata": {},
   "outputs": [
    {
     "data": {
      "text/html": [
       "200"
      ],
      "text/latex": [
       "200"
      ],
      "text/markdown": [
       "200"
      ],
      "text/plain": [
       "[1] 200"
      ]
     },
     "metadata": {},
     "output_type": "display_data"
    }
   ],
   "source": [
    "status_code(resp)"
   ]
  },
  {
   "cell_type": "code",
   "execution_count": 3,
   "metadata": {},
   "outputs": [
    {
     "data": {
      "text/html": [
       "<dl>\n",
       "\t<dt>$server</dt>\n",
       "\t\t<dd>'nginx'</dd>\n",
       "\t<dt>$date</dt>\n",
       "\t\t<dd>'Tue, 25 Aug 2020 12:33:51 GMT'</dd>\n",
       "\t<dt>$`content-type`</dt>\n",
       "\t\t<dd>'application/json'</dd>\n",
       "\t<dt>$`last-modified`</dt>\n",
       "\t\t<dd>'Tue, 25 Aug 2020 12:32:32 GMT'</dd>\n",
       "\t<dt>$`transfer-encoding`</dt>\n",
       "\t\t<dd>'chunked'</dd>\n",
       "\t<dt>$connection</dt>\n",
       "\t\t<dd>'keep-alive'</dd>\n",
       "\t<dt>$vary</dt>\n",
       "\t\t<dd>'Accept-Encoding'</dd>\n",
       "\t<dt>$etag</dt>\n",
       "\t\t<dd>'W/\"5f4504e0-106f2\"'</dd>\n",
       "\t<dt>$`content-encoding`</dt>\n",
       "\t\t<dd>'gzip'</dd>\n",
       "</dl>\n"
      ],
      "text/latex": [
       "\\begin{description}\n",
       "\\item[\\$server] 'nginx'\n",
       "\\item[\\$date] 'Tue, 25 Aug 2020 12:33:51 GMT'\n",
       "\\item[\\$`content-type`] 'application/json'\n",
       "\\item[\\$`last-modified`] 'Tue, 25 Aug 2020 12:32:32 GMT'\n",
       "\\item[\\$`transfer-encoding`] 'chunked'\n",
       "\\item[\\$connection] 'keep-alive'\n",
       "\\item[\\$vary] 'Accept-Encoding'\n",
       "\\item[\\$etag] 'W/\"5f4504e0-106f2\"'\n",
       "\\item[\\$`content-encoding`] 'gzip'\n",
       "\\end{description}\n"
      ],
      "text/markdown": [
       "$server\n",
       ":   'nginx'\n",
       "$date\n",
       ":   'Tue, 25 Aug 2020 12:33:51 GMT'\n",
       "$`content-type`\n",
       ":   'application/json'\n",
       "$`last-modified`\n",
       ":   'Tue, 25 Aug 2020 12:32:32 GMT'\n",
       "$`transfer-encoding`\n",
       ":   'chunked'\n",
       "$connection\n",
       ":   'keep-alive'\n",
       "$vary\n",
       ":   'Accept-Encoding'\n",
       "$etag\n",
       ":   'W/\"5f4504e0-106f2\"'\n",
       "$`content-encoding`\n",
       ":   'gzip'\n",
       "\n",
       "\n"
      ],
      "text/plain": [
       "$server\n",
       "[1] \"nginx\"\n",
       "\n",
       "$date\n",
       "[1] \"Tue, 25 Aug 2020 12:33:51 GMT\"\n",
       "\n",
       "$`content-type`\n",
       "[1] \"application/json\"\n",
       "\n",
       "$`last-modified`\n",
       "[1] \"Tue, 25 Aug 2020 12:32:32 GMT\"\n",
       "\n",
       "$`transfer-encoding`\n",
       "[1] \"chunked\"\n",
       "\n",
       "$connection\n",
       "[1] \"keep-alive\"\n",
       "\n",
       "$vary\n",
       "[1] \"Accept-Encoding\"\n",
       "\n",
       "$etag\n",
       "[1] \"W/\\\"5f4504e0-106f2\\\"\"\n",
       "\n",
       "$`content-encoding`\n",
       "[1] \"gzip\"\n",
       "\n",
       "attr(,\"class\")\n",
       "[1] \"insensitive\" \"list\"       "
      ]
     },
     "metadata": {},
     "output_type": "display_data"
    }
   ],
   "source": [
    "#jalankan fungsi headers() pada resp untuk mengetahui metadata apa saja \n",
    "#yang tersimpan. Apakah isi dari elemen content-type? dan Kapan terakhir kali informasi diperbaharui\n",
    "headers(resp)\n",
    "\n"
   ]
  },
  {
   "cell_type": "markdown",
   "metadata": {},
   "source": [
    "## Mengekstrak Isi Respon\n",
    "Respon API dengan status code 200 menyatakan bahwa permintaan berhasil dipenuhi dan konten yang diminta tersedia untuk diekstrak."
   ]
  },
  {
   "cell_type": "code",
   "execution_count": 4,
   "metadata": {},
   "outputs": [],
   "source": [
    "#Gunakan fungsi content() untuk mengekstrak konten\n",
    "#Fungsi content() secara cerdas akan menyesuaikan output sesuai dengan jenis berkas yang tersedia,\n",
    "# dalam hal ini adalah berkas JSON. \n",
    "# Tambahkan argumen as=\"parsed\" dam simplyfyvector = TRUE\n",
    "# Konten akan disimpan sebagai cov_id_raw\n",
    "cov_id_raw <- content(resp, as = \"parsed\" , simplifyVector = TRUE)"
   ]
  },
  {
   "cell_type": "code",
   "execution_count": 5,
   "metadata": {},
   "outputs": [
    {
     "data": {
      "text/html": [
       "2"
      ],
      "text/latex": [
       "2"
      ],
      "text/markdown": [
       "2"
      ],
      "text/plain": [
       "[1] 2"
      ]
     },
     "metadata": {},
     "output_type": "display_data"
    },
    {
     "data": {
      "text/html": [
       "<ol class=list-inline>\n",
       "\t<li>'data'</li>\n",
       "\t<li>'update'</li>\n",
       "</ol>\n"
      ],
      "text/latex": [
       "\\begin{enumerate*}\n",
       "\\item 'data'\n",
       "\\item 'update'\n",
       "\\end{enumerate*}\n"
      ],
      "text/markdown": [
       "1. 'data'\n",
       "2. 'update'\n",
       "\n",
       "\n"
      ],
      "text/plain": [
       "[1] \"data\"   \"update\""
      ]
     },
     "metadata": {},
     "output_type": "display_data"
    }
   ],
   "source": [
    "# Gunakan fungsi length() dan names() untuk mengamati komponen serta apa saja nama komponen yang adalength(cov_id_raw)\n",
    "# simpan dengan nama cov_id_update\n",
    "length(cov_id_raw)\n",
    "names(cov_id_raw)\n",
    "cov_id_update <- cov_id_raw$update"
   ]
  },
  {
   "cell_type": "markdown",
   "metadata": {},
   "source": [
    "## Analisa Data\n",
    "Menganalisa data untuk menjawab pertanyaan-pertanyaan berikut:\n",
    "- Kapan tanggal pembaharuan data penambahan kasus?\n",
    "- Berapa jumlah penambahan kasus sembuh?\n",
    "- Berapa jumlah penambahan kasus meninggal?\n",
    "- Berapa jumlah total kasus positif hingga saat ini?\n",
    "- Berapa jumlah total kasus meninggal hingga saat ini?"
   ]
  },
  {
   "cell_type": "code",
   "execution_count": 6,
   "metadata": {},
   "outputs": [
    {
     "data": {
      "text/html": [
       "'2020-08-25'"
      ],
      "text/latex": [
       "'2020-08-25'"
      ],
      "text/markdown": [
       "'2020-08-25'"
      ],
      "text/plain": [
       "[1] \"2020-08-25\""
      ]
     },
     "metadata": {},
     "output_type": "display_data"
    },
    {
     "data": {
      "text/html": [
       "1807"
      ],
      "text/latex": [
       "1807"
      ],
      "text/markdown": [
       "1807"
      ],
      "text/plain": [
       "[1] 1807"
      ]
     },
     "metadata": {},
     "output_type": "display_data"
    },
    {
     "data": {
      "text/html": [
       "99"
      ],
      "text/latex": [
       "99"
      ],
      "text/markdown": [
       "99"
      ],
      "text/plain": [
       "[1] 99"
      ]
     },
     "metadata": {},
     "output_type": "display_data"
    },
    {
     "data": {
      "text/html": [
       "157859"
      ],
      "text/latex": [
       "157859"
      ],
      "text/markdown": [
       "157859"
      ],
      "text/plain": [
       "[1] 157859"
      ]
     },
     "metadata": {},
     "output_type": "display_data"
    },
    {
     "data": {
      "text/html": [
       "6858"
      ],
      "text/latex": [
       "6858"
      ],
      "text/markdown": [
       "6858"
      ],
      "text/plain": [
       "[1] 6858"
      ]
     },
     "metadata": {},
     "output_type": "display_data"
    }
   ],
   "source": [
    "cov_id_update$penambahan$tanggal\n",
    "cov_id_update$penambahan$jumlah_sembuh\n",
    "cov_id_update$penambahan$jumlah_meninggal\n",
    "cov_id_update$total$jumlah_positif\n",
    "cov_id_update$total$jumlah_meninggal"
   ]
  },
  {
   "cell_type": "markdown",
   "metadata": {},
   "source": [
    "Dari hasil diatas terlihat bahwa\n",
    "1. Pembaharuan data penambahan kasus dilakukan pada tangal 25 Agustus 2020\n",
    "2. Penambahan kasus sembuh sebanyak 3560 Kasus\n",
    "3. Terdapat 79 penambahan kasus meninggal\n",
    "4. Hingga pembaharuan data terakhir, terdapat 155412 total kasus positif\n",
    "5. Sebanyak 6759 total kasus meninggal."
   ]
  },
  {
   "cell_type": "markdown",
   "metadata": {},
   "source": [
    "## Apa kabar Riau? "
   ]
  },
  {
   "cell_type": "code",
   "execution_count": 7,
   "metadata": {},
   "outputs": [
    {
     "data": {
      "text/html": [
       "1279"
      ],
      "text/latex": [
       "1279"
      ],
      "text/markdown": [
       "1279"
      ],
      "text/plain": [
       "[1] 1279"
      ]
     },
     "metadata": {},
     "output_type": "display_data"
    },
    {
     "data": {
      "text/html": [
       "1.6419077404222"
      ],
      "text/latex": [
       "1.6419077404222"
      ],
      "text/markdown": [
       "1.6419077404222"
      ],
      "text/plain": [
       "[1] 1.641908"
      ]
     },
     "metadata": {},
     "output_type": "display_data"
    },
    {
     "data": {
      "text/html": [
       "64.034401876466"
      ],
      "text/latex": [
       "64.034401876466"
      ],
      "text/markdown": [
       "64.034401876466"
      ],
      "text/plain": [
       "[1] 64.0344"
      ]
     },
     "metadata": {},
     "output_type": "display_data"
    }
   ],
   "source": [
    "library(httr)\n",
    "resp_riau <- GET(\"https://data.covid19.go.id/public/api/prov_detail_RIAU.json\")\n",
    "cov_riau_raw <- content(resp_riau, as = \"parsed\", simplifyVector = TRUE)\n",
    "cov_riau_raw$kasus_total\n",
    "cov_riau_raw$meninggal_persen\n",
    "cov_riau_raw$sembuh_persen"
   ]
  },
  {
   "cell_type": "markdown",
   "metadata": {},
   "source": [
    "Dari data diatas terlihat bahwa :\n",
    "1. Jumlah total kasus COVID-19 di Riau sebanyak 1279 kasus\n",
    "2. Persentase kematian akibat COVID-19 di Riau adalah 1.6419%\n",
    "3. dan Persentasi tingkat kesembuah dari Covid-19 di Riau adalah 64.0344%"
   ]
  },
  {
   "cell_type": "markdown",
   "metadata": {},
   "source": [
    "## Memperoleh Informasi yang Lebih lengkap"
   ]
  },
  {
   "cell_type": "code",
   "execution_count": 8,
   "metadata": {},
   "outputs": [
    {
     "name": "stdout",
     "output_type": "stream",
     "text": [
      "'data.frame':\t149 obs. of  9 variables:\n",
      " $ tanggal                     : num  1.59e+12 1.59e+12 1.59e+12 1.59e+12 1.59e+12 ...\n",
      " $ KASUS                       : int  1 1 0 0 4 3 0 1 1 0 ...\n",
      " $ MENINGGAL                   : int  0 0 0 1 0 0 0 1 0 0 ...\n",
      " $ SEMBUH                      : int  0 0 0 0 0 0 1 0 0 0 ...\n",
      " $ DIRAWAT_OR_ISOLASI          : int  1 1 0 -1 4 3 -1 0 1 0 ...\n",
      " $ AKUMULASI_KASUS             : int  1 2 2 2 6 9 9 10 11 11 ...\n",
      " $ AKUMULASI_SEMBUH            : int  0 0 0 0 0 0 1 1 1 1 ...\n",
      " $ AKUMULASI_MENINGGAL         : int  0 0 0 1 1 1 1 2 2 2 ...\n",
      " $ AKUMULASI_DIRAWAT_OR_ISOLASI: int  1 2 2 1 5 8 7 7 8 8 ...\n"
     ]
    },
    {
     "data": {
      "text/html": [
       "<table>\n",
       "<thead><tr><th scope=col>tanggal</th><th scope=col>KASUS</th><th scope=col>MENINGGAL</th><th scope=col>SEMBUH</th><th scope=col>DIRAWAT_OR_ISOLASI</th><th scope=col>AKUMULASI_KASUS</th><th scope=col>AKUMULASI_SEMBUH</th><th scope=col>AKUMULASI_MENINGGAL</th><th scope=col>AKUMULASI_DIRAWAT_OR_ISOLASI</th></tr></thead>\n",
       "<tbody>\n",
       "\t<tr><td>1.585440e+12</td><td>1           </td><td>0           </td><td>0           </td><td> 1          </td><td>1           </td><td>0           </td><td>0           </td><td>1           </td></tr>\n",
       "\t<tr><td>1.585526e+12</td><td>1           </td><td>0           </td><td>0           </td><td> 1          </td><td>2           </td><td>0           </td><td>0           </td><td>2           </td></tr>\n",
       "\t<tr><td>1.585613e+12</td><td>0           </td><td>0           </td><td>0           </td><td> 0          </td><td>2           </td><td>0           </td><td>0           </td><td>2           </td></tr>\n",
       "\t<tr><td>1.585699e+12</td><td>0           </td><td>1           </td><td>0           </td><td>-1          </td><td>2           </td><td>0           </td><td>1           </td><td>1           </td></tr>\n",
       "\t<tr><td>1.585786e+12</td><td>4           </td><td>0           </td><td>0           </td><td> 4          </td><td>6           </td><td>0           </td><td>1           </td><td>5           </td></tr>\n",
       "\t<tr><td>1.585872e+12</td><td>3           </td><td>0           </td><td>0           </td><td> 3          </td><td>9           </td><td>0           </td><td>1           </td><td>8           </td></tr>\n",
       "</tbody>\n",
       "</table>\n"
      ],
      "text/latex": [
       "\\begin{tabular}{r|lllllllll}\n",
       " tanggal & KASUS & MENINGGAL & SEMBUH & DIRAWAT\\_OR\\_ISOLASI & AKUMULASI\\_KASUS & AKUMULASI\\_SEMBUH & AKUMULASI\\_MENINGGAL & AKUMULASI\\_DIRAWAT\\_OR\\_ISOLASI\\\\\n",
       "\\hline\n",
       "\t 1.585440e+12 & 1            & 0            & 0            &  1           & 1            & 0            & 0            & 1           \\\\\n",
       "\t 1.585526e+12 & 1            & 0            & 0            &  1           & 2            & 0            & 0            & 2           \\\\\n",
       "\t 1.585613e+12 & 0            & 0            & 0            &  0           & 2            & 0            & 0            & 2           \\\\\n",
       "\t 1.585699e+12 & 0            & 1            & 0            & -1           & 2            & 0            & 1            & 1           \\\\\n",
       "\t 1.585786e+12 & 4            & 0            & 0            &  4           & 6            & 0            & 1            & 5           \\\\\n",
       "\t 1.585872e+12 & 3            & 0            & 0            &  3           & 9            & 0            & 1            & 8           \\\\\n",
       "\\end{tabular}\n"
      ],
      "text/markdown": [
       "\n",
       "| tanggal | KASUS | MENINGGAL | SEMBUH | DIRAWAT_OR_ISOLASI | AKUMULASI_KASUS | AKUMULASI_SEMBUH | AKUMULASI_MENINGGAL | AKUMULASI_DIRAWAT_OR_ISOLASI |\n",
       "|---|---|---|---|---|---|---|---|---|\n",
       "| 1.585440e+12 | 1            | 0            | 0            |  1           | 1            | 0            | 0            | 1            |\n",
       "| 1.585526e+12 | 1            | 0            | 0            |  1           | 2            | 0            | 0            | 2            |\n",
       "| 1.585613e+12 | 0            | 0            | 0            |  0           | 2            | 0            | 0            | 2            |\n",
       "| 1.585699e+12 | 0            | 1            | 0            | -1           | 2            | 0            | 1            | 1            |\n",
       "| 1.585786e+12 | 4            | 0            | 0            |  4           | 6            | 0            | 1            | 5            |\n",
       "| 1.585872e+12 | 3            | 0            | 0            |  3           | 9            | 0            | 1            | 8            |\n",
       "\n"
      ],
      "text/plain": [
       "  tanggal      KASUS MENINGGAL SEMBUH DIRAWAT_OR_ISOLASI AKUMULASI_KASUS\n",
       "1 1.585440e+12 1     0         0       1                 1              \n",
       "2 1.585526e+12 1     0         0       1                 2              \n",
       "3 1.585613e+12 0     0         0       0                 2              \n",
       "4 1.585699e+12 0     1         0      -1                 2              \n",
       "5 1.585786e+12 4     0         0       4                 6              \n",
       "6 1.585872e+12 3     0         0       3                 9              \n",
       "  AKUMULASI_SEMBUH AKUMULASI_MENINGGAL AKUMULASI_DIRAWAT_OR_ISOLASI\n",
       "1 0                0                   1                           \n",
       "2 0                0                   2                           \n",
       "3 0                0                   2                           \n",
       "4 0                1                   1                           \n",
       "5 0                1                   5                           \n",
       "6 0                1                   8                           "
      ]
     },
     "metadata": {},
     "output_type": "display_data"
    }
   ],
   "source": [
    "cov_riau <- cov_riau_raw$list_perkembangan\n",
    "str(cov_riau)\n",
    "head(cov_riau)"
   ]
  },
  {
   "cell_type": "markdown",
   "metadata": {},
   "source": [
    "## Menjinakkan Data\n",
    "Setelah mengekstrak dan mengamati cov_riau, ditemukan beberapa kejanggalan pada data tersebut. Diantaranya adalah kejanggalan data pada kolom tanggal dan format penulisan kolom yang tidak konsisten. Sekarang akan dilakukan beberapa tahapan untuk menjinakan data tersebut sehingga dapat diolah dan dianalisis dengan lebih mudah.\n",
    "\n",
    "Ada beberapa tahapan yang akan Anda lakukan untuk menjinakan data cov_riau, yaitu:\n",
    "\n",
    "1. Menghapus kolom “DIRAWAT_OR_ISOLASI” dan “AKUMULASI_DIRAWAT_OR_ISOLASI”\n",
    "2. Menghapus semua kolom yang berisi nilai kumulatif\n",
    "3. Mengganti nama kolom “KASUS” menjadi “kasus_baru”\n",
    "4. Merubah format penulisan kolom berikut menjadi huruf kecil\n",
    "    - kolom MENINGGAL\n",
    "    - kolom SEMBUH\n",
    "5. Memperbaiki data pada kolom tanggal\n"
   ]
  },
  {
   "cell_type": "code",
   "execution_count": 9,
   "metadata": {},
   "outputs": [
    {
     "name": "stderr",
     "output_type": "stream",
     "text": [
      "Warning message:\n",
      "\"package 'dplyr' was built under R version 3.6.3\"\n",
      "Attaching package: 'dplyr'\n",
      "\n",
      "The following objects are masked from 'package:stats':\n",
      "\n",
      "    filter, lag\n",
      "\n",
      "The following objects are masked from 'package:base':\n",
      "\n",
      "    intersect, setdiff, setequal, union\n",
      "\n"
     ]
    },
    {
     "name": "stdout",
     "output_type": "stream",
     "text": [
      "'data.frame':\t149 obs. of  4 variables:\n",
      " $ tanggal   : Date, format: \"2020-03-29\" \"2020-03-30\" ...\n",
      " $ kasus_baru: int  1 1 0 0 4 3 0 1 1 0 ...\n",
      " $ meninggal : int  0 0 0 1 0 0 0 1 0 0 ...\n",
      " $ sembuh    : int  0 0 0 0 0 0 1 0 0 0 ...\n"
     ]
    }
   ],
   "source": [
    "# Mengunakan packages dply untuk melakukan pengolahan data\n",
    "# Gunakan operator pipe %>% untuk merangkai fungsi menjadi sebuah pipeline.\n",
    "# Menyimpan hasil pengolahan dengan nama new_cov_riau\n",
    "library(dplyr)\n",
    "new_cov_riau <-\n",
    "  cov_riau %>% \n",
    "  select(-contains(\"DIRAWAT_OR_ISOLASI\")) %>% \n",
    "  select(-starts_with(\"AKUMULASI\")) %>% \n",
    "  rename(\n",
    "    kasus_baru = KASUS,\n",
    "    meninggal = MENINGGAL,\n",
    "    sembuh = SEMBUH\n",
    "    ) %>% \n",
    "  mutate(\n",
    "    tanggal = as.POSIXct(tanggal / 1000, origin = \"1970-01-01\"),\n",
    "    tanggal = as.Date(tanggal)\n",
    "  )\n",
    "str(new_cov_riau) "
   ]
  },
  {
   "cell_type": "markdown",
   "metadata": {},
   "source": [
    "## Menunjukkan Melalui Gambar\n"
   ]
  },
  {
   "cell_type": "code",
   "execution_count": 10,
   "metadata": {},
   "outputs": [
    {
     "name": "stderr",
     "output_type": "stream",
     "text": [
      "Warning message:\n",
      "\"package 'ggplot2' was built under R version 3.6.3\"Warning message:\n",
      "\"package 'hrbrthemes' was built under R version 3.6.3\"NOTE: Either Arial Narrow or Roboto Condensed fonts are required to use these themes.\n",
      "      Please use hrbrthemes::import_roboto_condensed() to install Roboto Condensed and\n",
      "      if Arial Narrow is not on your system, please see https://bit.ly/arialnarrow\n"
     ]
    },
    {
     "data": {
      "image/png": "[encoded data removed]",
      "text/plain": [
       "plot without title"
      ]
     },
     "metadata": {},
     "output_type": "display_data"
    }
   ],
   "source": [
    "library(ggplot2)\n",
    "library(hrbrthemes)\n",
    "ggplot(new_cov_riau, aes(x = tanggal, y = kasus_baru)) +\n",
    "  geom_col()"
   ]
  },
  {
   "cell_type": "code",
   "execution_count": 11,
   "metadata": {},
   "outputs": [
    {
     "name": "stderr",
     "output_type": "stream",
     "text": [
      "Warning message in grid.Call(C_stringMetric, as.graphicsAnnot(x$label)):\n",
      "\"font family not found in Windows font database\"Warning message in grid.Call(C_stringMetric, as.graphicsAnnot(x$label)):\n",
      "\"font family not found in Windows font database\"Warning message in grid.Call(C_stringMetric, as.graphicsAnnot(x$label)):\n",
      "\"font family not found in Windows font database\"Warning message in grid.Call(C_textBounds, as.graphicsAnnot(x$label), x$x, x$y, :\n",
      "\"font family not found in Windows font database\"Warning message in grid.Call(C_textBounds, as.graphicsAnnot(x$label), x$x, x$y, :\n",
      "\"font family not found in Windows font database\"Warning message in grid.Call(C_textBounds, as.graphicsAnnot(x$label), x$x, x$y, :\n",
      "\"font family not found in Windows font database\"Warning message in grid.Call(C_textBounds, as.graphicsAnnot(x$label), x$x, x$y, :\n",
      "\"font family not found in Windows font database\"Warning message in grid.Call(C_textBounds, as.graphicsAnnot(x$label), x$x, x$y, :\n",
      "\"font family not found in Windows font database\"Warning message in grid.Call(C_textBounds, as.graphicsAnnot(x$label), x$x, x$y, :\n",
      "\"font family not found in Windows font database\"Warning message in grid.Call(C_textBounds, as.graphicsAnnot(x$label), x$x, x$y, :\n",
      "\"font family not found in Windows font database\"Warning message in grid.Call(C_textBounds, as.graphicsAnnot(x$label), x$x, x$y, :\n",
      "\"font family not found in Windows font database\"Warning message in grid.Call(C_textBounds, as.graphicsAnnot(x$label), x$x, x$y, :\n",
      "\"font family not found in Windows font database\"Warning message in grid.Call(C_textBounds, as.graphicsAnnot(x$label), x$x, x$y, :\n",
      "\"font family not found in Windows font database\"Warning message in grid.Call(C_textBounds, as.graphicsAnnot(x$label), x$x, x$y, :\n",
      "\"font family not found in Windows font database\"Warning message in grid.Call.graphics(C_text, as.graphicsAnnot(x$label), x$x, x$y, :\n",
      "\"font family not found in Windows font database\"Warning message in grid.Call(C_textBounds, as.graphicsAnnot(x$label), x$x, x$y, :\n",
      "\"font family not found in Windows font database\"Warning message in grid.Call(C_textBounds, as.graphicsAnnot(x$label), x$x, x$y, :\n",
      "\"font family not found in Windows font database\""
     ]
    },
    {
     "data": {
      "image/png": "[encoded data removed]",
      "text/plain": [
       "plot without title"
      ]
     },
     "metadata": {},
     "output_type": "display_data"
    }
   ],
   "source": [
    "library(ggplot2)\n",
    "library(hrbrthemes)\n",
    "ggplot(new_cov_riau, aes(tanggal, kasus_baru)) +\n",
    "\tgeom_col(fill = \"salmon\") +\n",
    "\tlabs(\n",
    "\t  x = NULL,\n",
    "\t  y = \"Jumlah Kasus\",\n",
    "\t  title = \"Kasus Harian Positif COVID-19 di Riau\",\n",
    "\t  caption = \"Sumber data: covid.19.go.id\"\n",
    "\t) +\n",
    "\ttheme_ipsum(\n",
    "\t  base_size = 13,\n",
    "\t  plot_title_size = 21,\n",
    "\t  grid = \"Y\",\n",
    "\t  ticks = TRUE\n",
    "\t) +\n",
    "\ttheme(plot.title.position = \"plot\")"
   ]
  },
  {
   "cell_type": "code",
   "execution_count": 12,
   "metadata": {},
   "outputs": [
    {
     "name": "stderr",
     "output_type": "stream",
     "text": [
      "Warning message in grid.Call(C_textBounds, as.graphicsAnnot(x$label), x$x, x$y, :\n",
      "\"font family not found in Windows font database\"Warning message in grid.Call(C_textBounds, as.graphicsAnnot(x$label), x$x, x$y, :\n",
      "\"font family not found in Windows font database\"Warning message in grid.Call(C_textBounds, as.graphicsAnnot(x$label), x$x, x$y, :\n",
      "\"font family not found in Windows font database\"Warning message in grid.Call(C_textBounds, as.graphicsAnnot(x$label), x$x, x$y, :\n",
      "\"font family not found in Windows font database\"Warning message in grid.Call(C_textBounds, as.graphicsAnnot(x$label), x$x, x$y, :\n",
      "\"font family not found in Windows font database\"Warning message in grid.Call(C_textBounds, as.graphicsAnnot(x$label), x$x, x$y, :\n",
      "\"font family not found in Windows font database\"Warning message in grid.Call(C_textBounds, as.graphicsAnnot(x$label), x$x, x$y, :\n",
      "\"font family not found in Windows font database\"Warning message in grid.Call(C_textBounds, as.graphicsAnnot(x$label), x$x, x$y, :\n",
      "\"font family not found in Windows font database\"Warning message in grid.Call(C_textBounds, as.graphicsAnnot(x$label), x$x, x$y, :\n",
      "\"font family not found in Windows font database\"Warning message in grid.Call(C_textBounds, as.graphicsAnnot(x$label), x$x, x$y, :\n",
      "\"font family not found in Windows font database\"Warning message in grid.Call(C_textBounds, as.graphicsAnnot(x$label), x$x, x$y, :\n",
      "\"font family not found in Windows font database\"Warning message in grid.Call.graphics(C_text, as.graphicsAnnot(x$label), x$x, x$y, :\n",
      "\"font family not found in Windows font database\"Warning message in grid.Call(C_textBounds, as.graphicsAnnot(x$label), x$x, x$y, :\n",
      "\"font family not found in Windows font database\"Warning message in grid.Call(C_textBounds, as.graphicsAnnot(x$label), x$x, x$y, :\n",
      "\"font family not found in Windows font database\""
     ]
    },
    {
     "data": {
      "image/png": "[encoded data removed]",
      "text/plain": [
       "plot without title"
      ]
     },
     "metadata": {},
     "output_type": "display_data"
    }
   ],
   "source": [
    "library(ggplot2)\n",
    "library(hrbrthemes)\n",
    "ggplot(new_cov_riau, aes(tanggal, sembuh)) +\n",
    "  geom_col(fill = \"olivedrab2\") +\n",
    "  labs(\n",
    "    x = NULL,\n",
    "    y = \"Jumlah kasus\",\n",
    "    title = \"Kasus Harian Sembuh Dari COVID-19 di Riau\",\n",
    "    caption = \"Sumber data: covid.19.go.id\"\n",
    "  ) +\n",
    "  theme_ipsum(\n",
    "    base_size = 13, \n",
    "    plot_title_size = 21,\n",
    "    grid = \"Y\",\n",
    "    ticks = TRUE\n",
    "  ) +\n",
    "  theme(plot.title.position = \"plot\")"
   ]
  },
  {
   "cell_type": "code",
   "execution_count": 13,
   "metadata": {},
   "outputs": [
    {
     "name": "stderr",
     "output_type": "stream",
     "text": [
      "Warning message in grid.Call(C_textBounds, as.graphicsAnnot(x$label), x$x, x$y, :\n",
      "\"font family not found in Windows font database\"Warning message in grid.Call(C_textBounds, as.graphicsAnnot(x$label), x$x, x$y, :\n",
      "\"font family not found in Windows font database\"Warning message in grid.Call(C_textBounds, as.graphicsAnnot(x$label), x$x, x$y, :\n",
      "\"font family not found in Windows font database\"Warning message in grid.Call(C_textBounds, as.graphicsAnnot(x$label), x$x, x$y, :\n",
      "\"font family not found in Windows font database\"Warning message in grid.Call(C_textBounds, as.graphicsAnnot(x$label), x$x, x$y, :\n",
      "\"font family not found in Windows font database\"Warning message in grid.Call(C_textBounds, as.graphicsAnnot(x$label), x$x, x$y, :\n",
      "\"font family not found in Windows font database\"Warning message in grid.Call(C_textBounds, as.graphicsAnnot(x$label), x$x, x$y, :\n",
      "\"font family not found in Windows font database\"Warning message in grid.Call(C_textBounds, as.graphicsAnnot(x$label), x$x, x$y, :\n",
      "\"font family not found in Windows font database\"Warning message in grid.Call(C_textBounds, as.graphicsAnnot(x$label), x$x, x$y, :\n",
      "\"font family not found in Windows font database\"Warning message in grid.Call(C_textBounds, as.graphicsAnnot(x$label), x$x, x$y, :\n",
      "\"font family not found in Windows font database\"Warning message in grid.Call(C_textBounds, as.graphicsAnnot(x$label), x$x, x$y, :\n",
      "\"font family not found in Windows font database\"Warning message in grid.Call.graphics(C_text, as.graphicsAnnot(x$label), x$x, x$y, :\n",
      "\"font family not found in Windows font database\"Warning message in grid.Call(C_textBounds, as.graphicsAnnot(x$label), x$x, x$y, :\n",
      "\"font family not found in Windows font database\"Warning message in grid.Call(C_textBounds, as.graphicsAnnot(x$label), x$x, x$y, :\n",
      "\"font family not found in Windows font database\""
     ]
    },
    {
     "data": {
      "image/png": "[encoded data removed]",
      "text/plain": [
       "plot without title"
      ]
     },
     "metadata": {},
     "output_type": "display_data"
    }
   ],
   "source": [
    "library(ggplot2)\n",
    "library(hrbrthemes)\n",
    "ggplot(new_cov_riau, aes(tanggal, meninggal)) +\n",
    "  geom_col(fill = \"darkslategray4\") +\n",
    "  labs(\n",
    "    x = NULL,\n",
    "    y = \"Jumlah kasus\",\n",
    "    title = \"Kasus Harian Meninggal Akibat COVID-19 di Riau\",\n",
    "    caption = \"Sumber data: covid.19.go.id\"\n",
    "  ) +\n",
    "  theme_ipsum(\n",
    "    base_size = 13, \n",
    "    plot_title_size = 21,\n",
    "    grid = \"Y\",\n",
    "    ticks = TRUE\n",
    "  ) +\n",
    "  theme(plot.title.position = \"plot\")"
   ]
  },
  {
   "cell_type": "markdown",
   "metadata": {},
   "source": [
    "## Apakah Pekan ini lebih baik?\n",
    "Setelah mengamati grafik perkembangan kasus terlihat bahwa terjadi fluktuasi pertambahan kasus harian. Dilandasi hal tersebut, kemudian diamati bagaimana perkembangan kasus dalam rentang waktu pekanan."
   ]
  },
  {
   "cell_type": "code",
   "execution_count": 14,
   "metadata": {},
   "outputs": [
    {
     "name": "stderr",
     "output_type": "stream",
     "text": [
      "Warning message:\n",
      "\"package 'lubridate' was built under R version 3.6.3\"\n",
      "Attaching package: 'lubridate'\n",
      "\n",
      "The following objects are masked from 'package:base':\n",
      "\n",
      "    date, intersect, setdiff, union\n",
      "\n"
     ]
    },
    {
     "name": "stdout",
     "output_type": "stream",
     "text": [
      "Rows: 22\n",
      "Columns: 3\n",
      "$ tahun    <dbl> 2020, 2020, 2020, 2020, 2020, 2020, 2020, 2020, 2020, 2020...\n",
      "$ pekan_ke <dbl> 13, 14, 15, 16, 17, 18, 19, 20, 21, 22, 23, 24, 25, 26, 27...\n",
      "$ jumlah   <int> 2, 9, 8, 15, 5, 21, 20, 25, 5, 6, 3, 6, 67, 33, 10, 10, 64...\n"
     ]
    }
   ],
   "source": [
    "library(dplyr)\n",
    "library(lubridate)\n",
    "\n",
    "cov_riau_pekanan <- new_cov_riau %>% \n",
    "  count(\n",
    "    tahun = year(tanggal),\n",
    "    pekan_ke = week(tanggal),\n",
    "    wt = kasus_baru,\n",
    "    name = \"jumlah\"\n",
    "  )\n",
    "\n",
    "glimpse(cov_riau_pekanan)"
   ]
  },
  {
   "cell_type": "code",
   "execution_count": 15,
   "metadata": {},
   "outputs": [
    {
     "name": "stdout",
     "output_type": "stream",
     "text": [
      "Rows: 22\n",
      "Columns: 5\n",
      "$ tahun            <dbl> 2020, 2020, 2020, 2020, 2020, 2020, 2020, 2020, 20...\n",
      "$ pekan_ke         <dbl> 13, 14, 15, 16, 17, 18, 19, 20, 21, 22, 23, 24, 25...\n",
      "$ jumlah           <int> 2, 9, 8, 15, 5, 21, 20, 25, 5, 6, 3, 6, 67, 33, 10...\n",
      "$ jumlah_pekanlalu <dbl> 0, 2, 9, 8, 15, 5, 21, 20, 25, 5, 6, 3, 6, 67, 33,...\n",
      "$ lebih_baik       <lgl> FALSE, FALSE, TRUE, FALSE, TRUE, FALSE, TRUE, FALS...\n"
     ]
    }
   ],
   "source": [
    "library(dplyr)\n",
    "cov_riau_pekanan <-\n",
    "  cov_riau_pekanan %>% \n",
    "  mutate(\n",
    "    jumlah_pekanlalu = dplyr::lag(jumlah, 1),\n",
    "    jumlah_pekanlalu = ifelse(is.na(jumlah_pekanlalu), 0, jumlah_pekanlalu),\n",
    "    lebih_baik = jumlah < jumlah_pekanlalu\n",
    "  )\n",
    "glimpse(cov_riau_pekanan)"
   ]
  },
  {
   "cell_type": "code",
   "execution_count": 16,
   "metadata": {},
   "outputs": [
    {
     "name": "stderr",
     "output_type": "stream",
     "text": [
      "Warning message in grid.Call(C_stringMetric, as.graphicsAnnot(x$label)):\n",
      "\"font family not found in Windows font database\"Warning message in grid.Call(C_textBounds, as.graphicsAnnot(x$label), x$x, x$y, :\n",
      "\"font family not found in Windows font database\"Warning message in grid.Call(C_textBounds, as.graphicsAnnot(x$label), x$x, x$y, :\n",
      "\"font family not found in Windows font database\"Warning message in grid.Call(C_textBounds, as.graphicsAnnot(x$label), x$x, x$y, :\n",
      "\"font family not found in Windows font database\"Warning message in grid.Call(C_textBounds, as.graphicsAnnot(x$label), x$x, x$y, :\n",
      "\"font family not found in Windows font database\"Warning message in grid.Call(C_textBounds, as.graphicsAnnot(x$label), x$x, x$y, :\n",
      "\"font family not found in Windows font database\"Warning message in grid.Call(C_textBounds, as.graphicsAnnot(x$label), x$x, x$y, :\n",
      "\"font family not found in Windows font database\"Warning message in grid.Call(C_textBounds, as.graphicsAnnot(x$label), x$x, x$y, :\n",
      "\"font family not found in Windows font database\"Warning message in grid.Call(C_textBounds, as.graphicsAnnot(x$label), x$x, x$y, :\n",
      "\"font family not found in Windows font database\"Warning message in grid.Call(C_textBounds, as.graphicsAnnot(x$label), x$x, x$y, :\n",
      "\"font family not found in Windows font database\"Warning message in grid.Call(C_textBounds, as.graphicsAnnot(x$label), x$x, x$y, :\n",
      "\"font family not found in Windows font database\"Warning message in grid.Call(C_textBounds, as.graphicsAnnot(x$label), x$x, x$y, :\n",
      "\"font family not found in Windows font database\"Warning message in grid.Call(C_textBounds, as.graphicsAnnot(x$label), x$x, x$y, :\n",
      "\"font family not found in Windows font database\"Warning message in grid.Call(C_textBounds, as.graphicsAnnot(x$label), x$x, x$y, :\n",
      "\"font family not found in Windows font database\"Warning message in grid.Call.graphics(C_text, as.graphicsAnnot(x$label), x$x, x$y, :\n",
      "\"font family not found in Windows font database\"Warning message in grid.Call(C_textBounds, as.graphicsAnnot(x$label), x$x, x$y, :\n",
      "\"font family not found in Windows font database\"Warning message in grid.Call(C_textBounds, as.graphicsAnnot(x$label), x$x, x$y, :\n",
      "\"font family not found in Windows font database\"Warning message in grid.Call(C_textBounds, as.graphicsAnnot(x$label), x$x, x$y, :\n",
      "\"font family not found in Windows font database\""
     ]
    },
    {
     "data": {
      "image/png": "[encoded data removed]",
      "text/plain": [
       "plot without title"
      ]
     },
     "metadata": {},
     "output_type": "display_data"
    }
   ],
   "source": [
    "library(ggplot2)\n",
    "library(hrbrthemes)\n",
    "ggplot(cov_riau_pekanan, aes(pekan_ke, jumlah, fill = lebih_baik)) +\n",
    "\tgeom_col(show.legend = FALSE) +\n",
    "\tscale_x_continuous(breaks = 9:29, expand = c(0, 0)) +\n",
    "\tscale_fill_manual(values = c(\"TRUE\" = \"seagreen3\", \"FALSE\" = \"salmon\")) +\n",
    "\tlabs(\n",
    "\t\tx = NULL,\n",
    "\t\ty = \"Jumlah kasus\",\n",
    "\t\ttitle = \"Kasus Pekanan Positif COVID-19 di Riau\",\n",
    "\t\tsubtitle = \"Kolom hijau menunjukan penambahan kasus baru lebih sedikit dibandingkan satu pekan sebelumnya\",\n",
    "\t\tcaption = \"Sumber data: covid.19.go.id\"\n",
    "\t) +\n",
    "\ttheme_ipsum(\n",
    "\t\tbase_size = 13,\n",
    "\t\tplot_title_size = 21,\n",
    "\t\tgrid = \"Y\",\n",
    "\t\tticks = TRUE\n",
    "\t) +\n",
    "\ttheme(plot.title.position = \"plot\")"
   ]
  },
  {
   "cell_type": "markdown",
   "metadata": {},
   "source": [
    "## Hingga saat ini ada berapa kasus yang masih aktif?"
   ]
  },
  {
   "cell_type": "code",
   "execution_count": 17,
   "metadata": {},
   "outputs": [
    {
     "data": {
      "text/html": [
       "<table>\n",
       "<thead><tr><th></th><th scope=col>tanggal</th><th scope=col>akumulasi_aktif</th><th scope=col>akumulasi_sembuh</th><th scope=col>akumulasi_meninggal</th></tr></thead>\n",
       "<tbody>\n",
       "\t<tr><th scope=row>144</th><td>2020-08-19</td><td>374       </td><td>659       </td><td>16        </td></tr>\n",
       "\t<tr><th scope=row>145</th><td>2020-08-20</td><td>384       </td><td>695       </td><td>17        </td></tr>\n",
       "\t<tr><th scope=row>146</th><td>2020-08-21</td><td>393       </td><td>721       </td><td>17        </td></tr>\n",
       "\t<tr><th scope=row>147</th><td>2020-08-22</td><td>425       </td><td>751       </td><td>18        </td></tr>\n",
       "\t<tr><th scope=row>148</th><td>2020-08-23</td><td>450       </td><td>767       </td><td>19        </td></tr>\n",
       "\t<tr><th scope=row>149</th><td>2020-08-24</td><td>438       </td><td>819       </td><td>21        </td></tr>\n",
       "</tbody>\n",
       "</table>\n"
      ],
      "text/latex": [
       "\\begin{tabular}{r|llll}\n",
       "  & tanggal & akumulasi\\_aktif & akumulasi\\_sembuh & akumulasi\\_meninggal\\\\\n",
       "\\hline\n",
       "\t144 & 2020-08-19 & 374        & 659        & 16        \\\\\n",
       "\t145 & 2020-08-20 & 384        & 695        & 17        \\\\\n",
       "\t146 & 2020-08-21 & 393        & 721        & 17        \\\\\n",
       "\t147 & 2020-08-22 & 425        & 751        & 18        \\\\\n",
       "\t148 & 2020-08-23 & 450        & 767        & 19        \\\\\n",
       "\t149 & 2020-08-24 & 438        & 819        & 21        \\\\\n",
       "\\end{tabular}\n"
      ],
      "text/markdown": [
       "\n",
       "| <!--/--> | tanggal | akumulasi_aktif | akumulasi_sembuh | akumulasi_meninggal |\n",
       "|---|---|---|---|---|\n",
       "| 144 | 2020-08-19 | 374        | 659        | 16         |\n",
       "| 145 | 2020-08-20 | 384        | 695        | 17         |\n",
       "| 146 | 2020-08-21 | 393        | 721        | 17         |\n",
       "| 147 | 2020-08-22 | 425        | 751        | 18         |\n",
       "| 148 | 2020-08-23 | 450        | 767        | 19         |\n",
       "| 149 | 2020-08-24 | 438        | 819        | 21         |\n",
       "\n"
      ],
      "text/plain": [
       "    tanggal    akumulasi_aktif akumulasi_sembuh akumulasi_meninggal\n",
       "144 2020-08-19 374             659              16                 \n",
       "145 2020-08-20 384             695              17                 \n",
       "146 2020-08-21 393             721              17                 \n",
       "147 2020-08-22 425             751              18                 \n",
       "148 2020-08-23 450             767              19                 \n",
       "149 2020-08-24 438             819              21                 "
      ]
     },
     "metadata": {},
     "output_type": "display_data"
    }
   ],
   "source": [
    "library(dplyr)\n",
    "cov_riau_akumulasi <- \n",
    "  new_cov_riau %>% \n",
    "  transmute(\n",
    "    tanggal,\n",
    "    akumulasi_aktif = cumsum(kasus_baru) - cumsum(sembuh) - cumsum(meninggal),\n",
    "    akumulasi_sembuh = cumsum(sembuh),\n",
    "    akumulasi_meninggal = cumsum(meninggal)\n",
    "  )\n",
    "\n",
    "tail(cov_riau_akumulasi)"
   ]
  },
  {
   "cell_type": "code",
   "execution_count": 18,
   "metadata": {},
   "outputs": [
    {
     "data": {
      "image/png": "[encoded data removed]",
      "text/plain": [
       "plot without title"
      ]
     },
     "metadata": {},
     "output_type": "display_data"
    }
   ],
   "source": [
    "library(ggplot2)\n",
    "ggplot(data = cov_riau_akumulasi, aes(x = tanggal, y = akumulasi_aktif)) +\n",
    "  geom_line()"
   ]
  },
  {
   "cell_type": "markdown",
   "metadata": {},
   "source": [
    "## Kabar buruk dan Kabar baik\n",
    "Akan dibuat grafik komparasi antara akumulasi kasus aktif, kasus sembuh dan kasus meninggal. "
   ]
  },
  {
   "cell_type": "code",
   "execution_count": 19,
   "metadata": {},
   "outputs": [
    {
     "name": "stderr",
     "output_type": "stream",
     "text": [
      "Warning message:\n",
      "\"package 'tidyr' was built under R version 3.6.3\""
     ]
    },
    {
     "data": {
      "text/html": [
       "<ol class=list-inline>\n",
       "\t<li>149</li>\n",
       "\t<li>4</li>\n",
       "</ol>\n"
      ],
      "text/latex": [
       "\\begin{enumerate*}\n",
       "\\item 149\n",
       "\\item 4\n",
       "\\end{enumerate*}\n"
      ],
      "text/markdown": [
       "1. 149\n",
       "2. 4\n",
       "\n",
       "\n"
      ],
      "text/plain": [
       "[1] 149   4"
      ]
     },
     "metadata": {},
     "output_type": "display_data"
    },
    {
     "data": {
      "text/html": [
       "<ol class=list-inline>\n",
       "\t<li>447</li>\n",
       "\t<li>3</li>\n",
       "</ol>\n"
      ],
      "text/latex": [
       "\\begin{enumerate*}\n",
       "\\item 447\n",
       "\\item 3\n",
       "\\end{enumerate*}\n"
      ],
      "text/markdown": [
       "1. 447\n",
       "2. 3\n",
       "\n",
       "\n"
      ],
      "text/plain": [
       "[1] 447   3"
      ]
     },
     "metadata": {},
     "output_type": "display_data"
    },
    {
     "name": "stdout",
     "output_type": "stream",
     "text": [
      "Rows: 447\n",
      "Columns: 3\n",
      "$ tanggal  <date> 2020-03-29, 2020-03-30, 2020-03-31, 2020-04-01, 2020-04-0...\n",
      "$ kategori <chr> \"aktif\", \"aktif\", \"aktif\", \"aktif\", \"aktif\", \"aktif\", \"akt...\n",
      "$ jumlah   <int> 1, 2, 2, 1, 5, 8, 7, 7, 8, 8, 8, 8, 7, 9, 9, 13, 13, 7, 9,...\n"
     ]
    }
   ],
   "source": [
    "# Menggunakan fungsi gather() dari paket tidyr untuk mentransformasi data cov_riau_akumulasi\n",
    "# Mengubah data yang berformat wide menjadi format long\n",
    "# menyimpan hasil transformasi sebgai cov_riau_akumulasi_pivot\n",
    "library(dplyr)\n",
    "library(tidyr)\n",
    "\n",
    "dim(cov_riau_akumulasi)\n",
    "\n",
    "cov_riau_akumulasi_pivot <- \n",
    "  cov_riau_akumulasi %>% \n",
    "  gather(\n",
    "    key = \"kategori\",\n",
    "    value = \"jumlah\",\n",
    "    -tanggal\n",
    "  ) %>% \n",
    "  mutate(\n",
    "    kategori = sub(pattern = \"akumulasi_\", replacement = \"\", kategori)\n",
    "  )\n",
    "\n",
    "dim(cov_riau_akumulasi_pivot)\n",
    "\n",
    "glimpse(cov_riau_akumulasi_pivot)"
   ]
  },
  {
   "cell_type": "markdown",
   "metadata": {},
   "source": [
    "## Grafik Komparasi antara akumulasi kasus aktif, kasus sembuh dan kasus meninggal"
   ]
  },
  {
   "cell_type": "code",
   "execution_count": 20,
   "metadata": {},
   "outputs": [
    {
     "name": "stderr",
     "output_type": "stream",
     "text": [
      "Warning message in grid.Call(C_stringMetric, as.graphicsAnnot(x$label)):\n",
      "\"font family not found in Windows font database\"Warning message in grid.Call(C_textBounds, as.graphicsAnnot(x$label), x$x, x$y, :\n",
      "\"font family not found in Windows font database\"Warning message in grid.Call(C_textBounds, as.graphicsAnnot(x$label), x$x, x$y, :\n",
      "\"font family not found in Windows font database\"Warning message in grid.Call(C_textBounds, as.graphicsAnnot(x$label), x$x, x$y, :\n",
      "\"font family not found in Windows font database\"Warning message in grid.Call(C_textBounds, as.graphicsAnnot(x$label), x$x, x$y, :\n",
      "\"font family not found in Windows font database\"Warning message in grid.Call(C_textBounds, as.graphicsAnnot(x$label), x$x, x$y, :\n",
      "\"font family not found in Windows font database\"Warning message in grid.Call(C_textBounds, as.graphicsAnnot(x$label), x$x, x$y, :\n",
      "\"font family not found in Windows font database\"Warning message in grid.Call(C_textBounds, as.graphicsAnnot(x$label), x$x, x$y, :\n",
      "\"font family not found in Windows font database\"Warning message in grid.Call(C_textBounds, as.graphicsAnnot(x$label), x$x, x$y, :\n",
      "\"font family not found in Windows font database\"Warning message in grid.Call(C_textBounds, as.graphicsAnnot(x$label), x$x, x$y, :\n",
      "\"font family not found in Windows font database\"Warning message in grid.Call(C_textBounds, as.graphicsAnnot(x$label), x$x, x$y, :\n",
      "\"font family not found in Windows font database\"Warning message in grid.Call(C_textBounds, as.graphicsAnnot(x$label), x$x, x$y, :\n",
      "\"font family not found in Windows font database\"Warning message in grid.Call.graphics(C_text, as.graphicsAnnot(x$label), x$x, x$y, :\n",
      "\"font family not found in Windows font database\"Warning message in grid.Call(C_textBounds, as.graphicsAnnot(x$label), x$x, x$y, :\n",
      "\"font family not found in Windows font database\"Warning message in grid.Call(C_textBounds, as.graphicsAnnot(x$label), x$x, x$y, :\n",
      "\"font family not found in Windows font database\"Warning message in grid.Call(C_textBounds, as.graphicsAnnot(x$label), x$x, x$y, :\n",
      "\"font family not found in Windows font database\""
     ]
    },
    {
     "data": {
      "image/png": "[encoded data removed]",
      "text/plain": [
       "plot without title"
      ]
     },
     "metadata": {},
     "output_type": "display_data"
    }
   ],
   "source": [
    "library(ggplot2)\n",
    "library(hrbrthemes)\n",
    "ggplot(cov_riau_akumulasi_pivot, aes(tanggal, jumlah, colour = (kategori))) +\n",
    "\tgeom_line(size = 0.9) +\n",
    "\tscale_y_continuous(sec.axis = dup_axis(name = NULL)) +\n",
    "\tscale_colour_manual(\n",
    "\t\tvalues = c(\n",
    "\t\t\t\"aktif\" = \"salmon\",\n",
    "\t\t\t\"meninggal\" = \"darkslategray4\",\n",
    "\t\t\t\"sembuh\" = \"olivedrab2\"\n",
    "\t\t),\n",
    "\t\tlabels = c(\"Aktif\", \"Meninggal\", \"Sembuh\")\n",
    "\t) +\n",
    "\tlabs(\n",
    "\t\tx = NULL,\n",
    "\t\ty = \"Jumlah kasus akumulasi\",\n",
    "\t\tcolour = NULL,\n",
    "\t\ttitle = \"Dinamika Kasus COVID-19 di Riau\",\n",
    "\t\tcaption = \"Sumber data: covid.19.go.id\"\n",
    "\t) +\n",
    "\ttheme_ipsum(\n",
    "\t\tbase_size = 13,\n",
    "\t\tplot_title_size = 21,\n",
    "\t\tgrid = \"Y\",\n",
    "\t\tticks = TRUE\n",
    "\t) +\n",
    "\ttheme(\n",
    "\t\tplot.title = element_text(hjust = 0.5),\n",
    "\t\tlegend.position = \"top\"\n",
    "\t)"
   ]
  },
  {
   "cell_type": "markdown",
   "metadata": {},
   "source": []
  }
 ],
 "metadata": {
  "kernelspec": {
   "display_name": "R",
   "language": "R",
   "name": "ir"
  },
  "language_info": {
   "codemirror_mode": "r",
   "file_extension": ".r",
   "mimetype": "text/x-r-source",
   "name": "R",
   "pygments_lexer": "r",
   "version": "3.6.1"
  }
 },
 "nbformat": 4,
 "nbformat_minor": 4
}
