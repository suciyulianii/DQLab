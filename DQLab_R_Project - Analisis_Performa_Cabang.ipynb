{
 "cells": [
  {
   "cell_type": "markdown",
   "metadata": {},
   "source": [
    "# Project Data Analysis for Finance : Performa Cabang\n",
    "\n",
    "## Latar Belakang\n",
    "\n",
    "DQLab Finance merupakan perusahaan finance yang sudah mempunyai banyak cabang tersebar dimana-mana. Sejak berdiri pada Januari 2020, DQLab Finance konsisten menyalurkan pembiayaan untuk masyarakat dan semakin berkembang setiap bulannya dengan membuka cabang baru.\n",
    "\n",
    "Walaupun berumur kurang dari 1 tahun, DQLab Finance sudah mempunyai banyak cabang, oleh karena itu perlu dipantau bagaimana performa dari cabang - cabang tersebut.\n",
    "\n",
    "Pada masing-masing cabang, terdapat agen-agen yang bertugas mencari dan mendata calon mitra yang akan mengajukan pinjaman kepada DQLab Finance. Lalu jika sudah disetujui, agen juga yang akan memberikan uang tersebut kepada mitra.\n",
    "\n",
    "## Tugas dan langkah\n",
    "\n",
    "#### Tugas :\n",
    "Menganalisis performa cabang dari cabang-cabang yang ada di DQLab Finance pada bulan Mei 2020.\n",
    "#### Langkah yang akan dilakukan :\n",
    "1. Memfilter data untuk bulan Mei 2020\n",
    "2. Membuat summary per cabang untuk melihat data 5 cabang terbaik dan terburuk\n",
    "3. Karena cabang bertambah setiap bulannya, maka perlu dicek umur cabang dan performa mei\n",
    "4. Mencari cabang terburuk untuk masing - masing kelompok umur\n",
    "\n",
    "## Dataset yang digunakan "
   ]
  },
  {
   "cell_type": "code",
   "execution_count": 2,
   "metadata": {},
   "outputs": [
    {
     "name": "stdout",
     "output_type": "stream",
     "text": [
      "Rows: 9,754\n",
      "Columns: 5\n",
      "$ loan_id      <int> 1, 2, 3, 4, 5, 6, 7, 8, 9, 10, 11, 12, 13, 14, 15, 16,...\n",
      "$ tanggal_cair <chr> \"2020-01-06\", \"2020-01-06\", \"2020-01-06\", \"2020-01-06\"...\n",
      "$ cabang       <chr> \"AA\", \"AA\", \"AA\", \"AA\", \"AA\", \"AA\", \"AB\", \"AB\", \"AB\", ...\n",
      "$ agen         <chr> \"AA-1\", \"AA-1\", \"AA-1\", \"AA-2\", \"AA-2\", \"AA-2\", \"AB-1\"...\n",
      "$ amount       <int> 320000, 440000, 200000, 430000, 360000, 220000, 320000...\n"
     ]
    }
   ],
   "source": [
    "# Menyimpan hasil pada dataframe df_loan\n",
    "# Menggunakan fungsi read.csv() untuk membaca file csv\n",
    "# Menggunakan stringsAsFactors agar data-data yang bertipe character tidak diubah menjadi factor\n",
    "# Menggunakan fungsi glimpse dari package dplyr untuk melihat data\n",
    "df_loan <- read.csv('https://dqlab-dataset.s3-ap-southeast-1.amazonaws.com/loan_disbursement.csv', stringsAsFactors = F)\n",
    "dplyr::glimpse(df_loan)"
   ]
  },
  {
   "cell_type": "markdown",
   "metadata": {},
   "source": [
    "Dari hasil diatas, dapat dilihat bahwa pada dataframe terdapat 9,754 baris data dan 5 kolom (variabel).\n",
    "  - loan_id : unik ID dari data ini\n",
    "  - tanggal_cair : tanggal uang diberikan kepada mitra\n",
    "  - cabang : lokasi agen bekerja dan tempat mitra terdaftar\n",
    "  - agen : petugas lapangan yang melakukan pencairan\n",
    "  - amount : jumlah uang yang dicairkan"
   ]
  },
  {
   "cell_type": "code",
   "execution_count": 3,
   "metadata": {},
   "outputs": [
    {
     "data": {
      "text/html": [
       "<table>\n",
       "<thead><tr><th scope=col>loan_id</th><th scope=col>tanggal_cair</th><th scope=col>cabang</th><th scope=col>agen</th><th scope=col>amount</th></tr></thead>\n",
       "<tbody>\n",
       "\t<tr><td> 1        </td><td>2020-01-06</td><td>AA        </td><td>AA-1      </td><td>320000    </td></tr>\n",
       "\t<tr><td> 2        </td><td>2020-01-06</td><td>AA        </td><td>AA-1      </td><td>440000    </td></tr>\n",
       "\t<tr><td> 3        </td><td>2020-01-06</td><td>AA        </td><td>AA-1      </td><td>200000    </td></tr>\n",
       "\t<tr><td> 4        </td><td>2020-01-06</td><td>AA        </td><td>AA-2      </td><td>430000    </td></tr>\n",
       "\t<tr><td> 5        </td><td>2020-01-06</td><td>AA        </td><td>AA-2      </td><td>360000    </td></tr>\n",
       "\t<tr><td> 6        </td><td>2020-01-06</td><td>AA        </td><td>AA-2      </td><td>220000    </td></tr>\n",
       "\t<tr><td> 7        </td><td>2020-01-06</td><td>AB        </td><td>AB-1      </td><td>320000    </td></tr>\n",
       "\t<tr><td> 8        </td><td>2020-01-06</td><td>AB        </td><td>AB-1      </td><td>470000    </td></tr>\n",
       "\t<tr><td> 9        </td><td>2020-01-06</td><td>AB        </td><td>AB-1      </td><td>470000    </td></tr>\n",
       "\t<tr><td>10        </td><td>2020-01-06</td><td>AB        </td><td>AB-2      </td><td>350000    </td></tr>\n",
       "\t<tr><td>11        </td><td>2020-01-06</td><td>AB        </td><td>AB-2      </td><td>360000    </td></tr>\n",
       "\t<tr><td>12        </td><td>2020-01-06</td><td>AB        </td><td>AB-2      </td><td>250000    </td></tr>\n",
       "\t<tr><td>13        </td><td>2020-01-06</td><td>AC        </td><td>AC-1      </td><td>290000    </td></tr>\n",
       "\t<tr><td>14        </td><td>2020-01-06</td><td>AC        </td><td>AC-1      </td><td>330000    </td></tr>\n",
       "\t<tr><td>15        </td><td>2020-01-06</td><td>AC        </td><td>AC-1      </td><td>240000    </td></tr>\n",
       "\t<tr><td>16        </td><td>2020-01-06</td><td>AC        </td><td>AC-2      </td><td>300000    </td></tr>\n",
       "\t<tr><td>17        </td><td>2020-01-06</td><td>AC        </td><td>AC-2      </td><td>210000    </td></tr>\n",
       "\t<tr><td>18        </td><td>2020-01-06</td><td>AC        </td><td>AC-2      </td><td>190000    </td></tr>\n",
       "\t<tr><td>19        </td><td>2020-01-06</td><td>AD        </td><td>AD-1      </td><td>280000    </td></tr>\n",
       "\t<tr><td>20        </td><td>2020-01-06</td><td>AD        </td><td>AD-1      </td><td>290000    </td></tr>\n",
       "\t<tr><td>21        </td><td>2020-01-06</td><td>AD        </td><td>AD-1      </td><td>230000    </td></tr>\n",
       "\t<tr><td>22        </td><td>2020-01-06</td><td>AD        </td><td>AD-2      </td><td>130000    </td></tr>\n",
       "\t<tr><td>23        </td><td>2020-01-06</td><td>AD        </td><td>AD-2      </td><td>350000    </td></tr>\n",
       "\t<tr><td>24        </td><td>2020-01-06</td><td>AD        </td><td>AD-2      </td><td>210000    </td></tr>\n",
       "\t<tr><td>25        </td><td>2020-01-07</td><td>AA        </td><td>AA-1      </td><td>280000    </td></tr>\n",
       "\t<tr><td>26        </td><td>2020-01-07</td><td>AA        </td><td>AA-1      </td><td>350000    </td></tr>\n",
       "\t<tr><td>27        </td><td>2020-01-07</td><td>AA        </td><td>AA-1      </td><td>400000    </td></tr>\n",
       "\t<tr><td>28        </td><td>2020-01-07</td><td>AA        </td><td>AA-2      </td><td>200000    </td></tr>\n",
       "\t<tr><td>29        </td><td>2020-01-07</td><td>AA        </td><td>AA-2      </td><td>140000    </td></tr>\n",
       "\t<tr><td>30        </td><td>2020-01-07</td><td>AA        </td><td>AA-2      </td><td>310000    </td></tr>\n",
       "\t<tr><td>...</td><td>...</td><td>...</td><td>...</td><td>...</td></tr>\n",
       "\t<tr><td>9725      </td><td>2020-05-29</td><td>AQ        </td><td>AQ-2      </td><td>350000    </td></tr>\n",
       "\t<tr><td>9726      </td><td>2020-05-29</td><td>AR        </td><td>AR-1      </td><td>360000    </td></tr>\n",
       "\t<tr><td>9727      </td><td>2020-05-29</td><td>AR        </td><td>AR-1      </td><td>370000    </td></tr>\n",
       "\t<tr><td>9728      </td><td>2020-05-29</td><td>AR        </td><td>AR-1      </td><td>200000    </td></tr>\n",
       "\t<tr><td>9729      </td><td>2020-05-29</td><td>AR        </td><td>AR-1      </td><td>340000    </td></tr>\n",
       "\t<tr><td>9730      </td><td>2020-05-29</td><td>AR        </td><td>AR-2      </td><td>430000    </td></tr>\n",
       "\t<tr><td>9731      </td><td>2020-05-29</td><td>AR        </td><td>AR-2      </td><td>540000    </td></tr>\n",
       "\t<tr><td>9732      </td><td>2020-05-29</td><td>AR        </td><td>AR-2      </td><td>140000    </td></tr>\n",
       "\t<tr><td>9733      </td><td>2020-05-29</td><td>AR        </td><td>AR-2      </td><td>400000    </td></tr>\n",
       "\t<tr><td>9734      </td><td>2020-05-29</td><td>AS        </td><td>AS-1      </td><td>340000    </td></tr>\n",
       "\t<tr><td>9735      </td><td>2020-05-29</td><td>AS        </td><td>AS-1      </td><td>390000    </td></tr>\n",
       "\t<tr><td>9736      </td><td>2020-05-29</td><td>AS        </td><td>AS-1      </td><td>280000    </td></tr>\n",
       "\t<tr><td>9737      </td><td>2020-05-29</td><td>AS        </td><td>AS-1      </td><td>270000    </td></tr>\n",
       "\t<tr><td>9738      </td><td>2020-05-29</td><td>AS        </td><td>AS-2      </td><td>220000    </td></tr>\n",
       "\t<tr><td>9739      </td><td>2020-05-29</td><td>AS        </td><td>AS-2      </td><td>360000    </td></tr>\n",
       "\t<tr><td>9740      </td><td>2020-05-29</td><td>AS        </td><td>AS-2      </td><td>310000    </td></tr>\n",
       "\t<tr><td>9741      </td><td>2020-05-29</td><td>AT        </td><td>AT-1      </td><td>300000    </td></tr>\n",
       "\t<tr><td>9742      </td><td>2020-05-29</td><td>AT        </td><td>AT-1      </td><td>300000    </td></tr>\n",
       "\t<tr><td>9743      </td><td>2020-05-29</td><td>AT        </td><td>AT-1      </td><td>140000    </td></tr>\n",
       "\t<tr><td>9744      </td><td>2020-05-29</td><td>AT        </td><td>AT-2      </td><td>260000    </td></tr>\n",
       "\t<tr><td>9745      </td><td>2020-05-29</td><td>AT        </td><td>AT-2      </td><td>310000    </td></tr>\n",
       "\t<tr><td>9746      </td><td>2020-05-29</td><td>AT        </td><td>AT-2      </td><td>330000    </td></tr>\n",
       "\t<tr><td>9747      </td><td>2020-05-29</td><td>AU        </td><td>AU-1      </td><td>330000    </td></tr>\n",
       "\t<tr><td>9748      </td><td>2020-05-29</td><td>AU        </td><td>AU-1      </td><td>420000    </td></tr>\n",
       "\t<tr><td>9749      </td><td>2020-05-29</td><td>AU        </td><td>AU-1      </td><td>220000    </td></tr>\n",
       "\t<tr><td>9750      </td><td>2020-05-29</td><td>AV        </td><td>AV-1      </td><td>480000    </td></tr>\n",
       "\t<tr><td>9751      </td><td>2020-05-29</td><td>AV        </td><td>AV-1      </td><td>350000    </td></tr>\n",
       "\t<tr><td>9752      </td><td>2020-05-29</td><td>AV        </td><td>AV-1      </td><td>310000    </td></tr>\n",
       "\t<tr><td>9753      </td><td>2020-05-29</td><td>AV        </td><td>AV-2      </td><td>300000    </td></tr>\n",
       "\t<tr><td>9754      </td><td>2020-05-29</td><td>AV        </td><td>AV-2      </td><td>470000    </td></tr>\n",
       "</tbody>\n",
       "</table>\n"
      ],
      "text/latex": [
       "\\begin{tabular}{r|lllll}\n",
       " loan\\_id & tanggal\\_cair & cabang & agen & amount\\\\\n",
       "\\hline\n",
       "\t  1         & 2020-01-06 & AA         & AA-1       & 320000    \\\\\n",
       "\t  2         & 2020-01-06 & AA         & AA-1       & 440000    \\\\\n",
       "\t  3         & 2020-01-06 & AA         & AA-1       & 200000    \\\\\n",
       "\t  4         & 2020-01-06 & AA         & AA-2       & 430000    \\\\\n",
       "\t  5         & 2020-01-06 & AA         & AA-2       & 360000    \\\\\n",
       "\t  6         & 2020-01-06 & AA         & AA-2       & 220000    \\\\\n",
       "\t  7         & 2020-01-06 & AB         & AB-1       & 320000    \\\\\n",
       "\t  8         & 2020-01-06 & AB         & AB-1       & 470000    \\\\\n",
       "\t  9         & 2020-01-06 & AB         & AB-1       & 470000    \\\\\n",
       "\t 10         & 2020-01-06 & AB         & AB-2       & 350000    \\\\\n",
       "\t 11         & 2020-01-06 & AB         & AB-2       & 360000    \\\\\n",
       "\t 12         & 2020-01-06 & AB         & AB-2       & 250000    \\\\\n",
       "\t 13         & 2020-01-06 & AC         & AC-1       & 290000    \\\\\n",
       "\t 14         & 2020-01-06 & AC         & AC-1       & 330000    \\\\\n",
       "\t 15         & 2020-01-06 & AC         & AC-1       & 240000    \\\\\n",
       "\t 16         & 2020-01-06 & AC         & AC-2       & 300000    \\\\\n",
       "\t 17         & 2020-01-06 & AC         & AC-2       & 210000    \\\\\n",
       "\t 18         & 2020-01-06 & AC         & AC-2       & 190000    \\\\\n",
       "\t 19         & 2020-01-06 & AD         & AD-1       & 280000    \\\\\n",
       "\t 20         & 2020-01-06 & AD         & AD-1       & 290000    \\\\\n",
       "\t 21         & 2020-01-06 & AD         & AD-1       & 230000    \\\\\n",
       "\t 22         & 2020-01-06 & AD         & AD-2       & 130000    \\\\\n",
       "\t 23         & 2020-01-06 & AD         & AD-2       & 350000    \\\\\n",
       "\t 24         & 2020-01-06 & AD         & AD-2       & 210000    \\\\\n",
       "\t 25         & 2020-01-07 & AA         & AA-1       & 280000    \\\\\n",
       "\t 26         & 2020-01-07 & AA         & AA-1       & 350000    \\\\\n",
       "\t 27         & 2020-01-07 & AA         & AA-1       & 400000    \\\\\n",
       "\t 28         & 2020-01-07 & AA         & AA-2       & 200000    \\\\\n",
       "\t 29         & 2020-01-07 & AA         & AA-2       & 140000    \\\\\n",
       "\t 30         & 2020-01-07 & AA         & AA-2       & 310000    \\\\\n",
       "\t ... & ... & ... & ... & ...\\\\\n",
       "\t 9725       & 2020-05-29 & AQ         & AQ-2       & 350000    \\\\\n",
       "\t 9726       & 2020-05-29 & AR         & AR-1       & 360000    \\\\\n",
       "\t 9727       & 2020-05-29 & AR         & AR-1       & 370000    \\\\\n",
       "\t 9728       & 2020-05-29 & AR         & AR-1       & 200000    \\\\\n",
       "\t 9729       & 2020-05-29 & AR         & AR-1       & 340000    \\\\\n",
       "\t 9730       & 2020-05-29 & AR         & AR-2       & 430000    \\\\\n",
       "\t 9731       & 2020-05-29 & AR         & AR-2       & 540000    \\\\\n",
       "\t 9732       & 2020-05-29 & AR         & AR-2       & 140000    \\\\\n",
       "\t 9733       & 2020-05-29 & AR         & AR-2       & 400000    \\\\\n",
       "\t 9734       & 2020-05-29 & AS         & AS-1       & 340000    \\\\\n",
       "\t 9735       & 2020-05-29 & AS         & AS-1       & 390000    \\\\\n",
       "\t 9736       & 2020-05-29 & AS         & AS-1       & 280000    \\\\\n",
       "\t 9737       & 2020-05-29 & AS         & AS-1       & 270000    \\\\\n",
       "\t 9738       & 2020-05-29 & AS         & AS-2       & 220000    \\\\\n",
       "\t 9739       & 2020-05-29 & AS         & AS-2       & 360000    \\\\\n",
       "\t 9740       & 2020-05-29 & AS         & AS-2       & 310000    \\\\\n",
       "\t 9741       & 2020-05-29 & AT         & AT-1       & 300000    \\\\\n",
       "\t 9742       & 2020-05-29 & AT         & AT-1       & 300000    \\\\\n",
       "\t 9743       & 2020-05-29 & AT         & AT-1       & 140000    \\\\\n",
       "\t 9744       & 2020-05-29 & AT         & AT-2       & 260000    \\\\\n",
       "\t 9745       & 2020-05-29 & AT         & AT-2       & 310000    \\\\\n",
       "\t 9746       & 2020-05-29 & AT         & AT-2       & 330000    \\\\\n",
       "\t 9747       & 2020-05-29 & AU         & AU-1       & 330000    \\\\\n",
       "\t 9748       & 2020-05-29 & AU         & AU-1       & 420000    \\\\\n",
       "\t 9749       & 2020-05-29 & AU         & AU-1       & 220000    \\\\\n",
       "\t 9750       & 2020-05-29 & AV         & AV-1       & 480000    \\\\\n",
       "\t 9751       & 2020-05-29 & AV         & AV-1       & 350000    \\\\\n",
       "\t 9752       & 2020-05-29 & AV         & AV-1       & 310000    \\\\\n",
       "\t 9753       & 2020-05-29 & AV         & AV-2       & 300000    \\\\\n",
       "\t 9754       & 2020-05-29 & AV         & AV-2       & 470000    \\\\\n",
       "\\end{tabular}\n"
      ],
      "text/markdown": [
       "\n",
       "| loan_id | tanggal_cair | cabang | agen | amount |\n",
       "|---|---|---|---|---|\n",
       "|  1         | 2020-01-06 | AA         | AA-1       | 320000     |\n",
       "|  2         | 2020-01-06 | AA         | AA-1       | 440000     |\n",
       "|  3         | 2020-01-06 | AA         | AA-1       | 200000     |\n",
       "|  4         | 2020-01-06 | AA         | AA-2       | 430000     |\n",
       "|  5         | 2020-01-06 | AA         | AA-2       | 360000     |\n",
       "|  6         | 2020-01-06 | AA         | AA-2       | 220000     |\n",
       "|  7         | 2020-01-06 | AB         | AB-1       | 320000     |\n",
       "|  8         | 2020-01-06 | AB         | AB-1       | 470000     |\n",
       "|  9         | 2020-01-06 | AB         | AB-1       | 470000     |\n",
       "| 10         | 2020-01-06 | AB         | AB-2       | 350000     |\n",
       "| 11         | 2020-01-06 | AB         | AB-2       | 360000     |\n",
       "| 12         | 2020-01-06 | AB         | AB-2       | 250000     |\n",
       "| 13         | 2020-01-06 | AC         | AC-1       | 290000     |\n",
       "| 14         | 2020-01-06 | AC         | AC-1       | 330000     |\n",
       "| 15         | 2020-01-06 | AC         | AC-1       | 240000     |\n",
       "| 16         | 2020-01-06 | AC         | AC-2       | 300000     |\n",
       "| 17         | 2020-01-06 | AC         | AC-2       | 210000     |\n",
       "| 18         | 2020-01-06 | AC         | AC-2       | 190000     |\n",
       "| 19         | 2020-01-06 | AD         | AD-1       | 280000     |\n",
       "| 20         | 2020-01-06 | AD         | AD-1       | 290000     |\n",
       "| 21         | 2020-01-06 | AD         | AD-1       | 230000     |\n",
       "| 22         | 2020-01-06 | AD         | AD-2       | 130000     |\n",
       "| 23         | 2020-01-06 | AD         | AD-2       | 350000     |\n",
       "| 24         | 2020-01-06 | AD         | AD-2       | 210000     |\n",
       "| 25         | 2020-01-07 | AA         | AA-1       | 280000     |\n",
       "| 26         | 2020-01-07 | AA         | AA-1       | 350000     |\n",
       "| 27         | 2020-01-07 | AA         | AA-1       | 400000     |\n",
       "| 28         | 2020-01-07 | AA         | AA-2       | 200000     |\n",
       "| 29         | 2020-01-07 | AA         | AA-2       | 140000     |\n",
       "| 30         | 2020-01-07 | AA         | AA-2       | 310000     |\n",
       "| ... | ... | ... | ... | ... |\n",
       "| 9725       | 2020-05-29 | AQ         | AQ-2       | 350000     |\n",
       "| 9726       | 2020-05-29 | AR         | AR-1       | 360000     |\n",
       "| 9727       | 2020-05-29 | AR         | AR-1       | 370000     |\n",
       "| 9728       | 2020-05-29 | AR         | AR-1       | 200000     |\n",
       "| 9729       | 2020-05-29 | AR         | AR-1       | 340000     |\n",
       "| 9730       | 2020-05-29 | AR         | AR-2       | 430000     |\n",
       "| 9731       | 2020-05-29 | AR         | AR-2       | 540000     |\n",
       "| 9732       | 2020-05-29 | AR         | AR-2       | 140000     |\n",
       "| 9733       | 2020-05-29 | AR         | AR-2       | 400000     |\n",
       "| 9734       | 2020-05-29 | AS         | AS-1       | 340000     |\n",
       "| 9735       | 2020-05-29 | AS         | AS-1       | 390000     |\n",
       "| 9736       | 2020-05-29 | AS         | AS-1       | 280000     |\n",
       "| 9737       | 2020-05-29 | AS         | AS-1       | 270000     |\n",
       "| 9738       | 2020-05-29 | AS         | AS-2       | 220000     |\n",
       "| 9739       | 2020-05-29 | AS         | AS-2       | 360000     |\n",
       "| 9740       | 2020-05-29 | AS         | AS-2       | 310000     |\n",
       "| 9741       | 2020-05-29 | AT         | AT-1       | 300000     |\n",
       "| 9742       | 2020-05-29 | AT         | AT-1       | 300000     |\n",
       "| 9743       | 2020-05-29 | AT         | AT-1       | 140000     |\n",
       "| 9744       | 2020-05-29 | AT         | AT-2       | 260000     |\n",
       "| 9745       | 2020-05-29 | AT         | AT-2       | 310000     |\n",
       "| 9746       | 2020-05-29 | AT         | AT-2       | 330000     |\n",
       "| 9747       | 2020-05-29 | AU         | AU-1       | 330000     |\n",
       "| 9748       | 2020-05-29 | AU         | AU-1       | 420000     |\n",
       "| 9749       | 2020-05-29 | AU         | AU-1       | 220000     |\n",
       "| 9750       | 2020-05-29 | AV         | AV-1       | 480000     |\n",
       "| 9751       | 2020-05-29 | AV         | AV-1       | 350000     |\n",
       "| 9752       | 2020-05-29 | AV         | AV-1       | 310000     |\n",
       "| 9753       | 2020-05-29 | AV         | AV-2       | 300000     |\n",
       "| 9754       | 2020-05-29 | AV         | AV-2       | 470000     |\n",
       "\n"
      ],
      "text/plain": [
       "     loan_id tanggal_cair cabang agen amount\n",
       "1     1      2020-01-06   AA     AA-1 320000\n",
       "2     2      2020-01-06   AA     AA-1 440000\n",
       "3     3      2020-01-06   AA     AA-1 200000\n",
       "4     4      2020-01-06   AA     AA-2 430000\n",
       "5     5      2020-01-06   AA     AA-2 360000\n",
       "6     6      2020-01-06   AA     AA-2 220000\n",
       "7     7      2020-01-06   AB     AB-1 320000\n",
       "8     8      2020-01-06   AB     AB-1 470000\n",
       "9     9      2020-01-06   AB     AB-1 470000\n",
       "10   10      2020-01-06   AB     AB-2 350000\n",
       "11   11      2020-01-06   AB     AB-2 360000\n",
       "12   12      2020-01-06   AB     AB-2 250000\n",
       "13   13      2020-01-06   AC     AC-1 290000\n",
       "14   14      2020-01-06   AC     AC-1 330000\n",
       "15   15      2020-01-06   AC     AC-1 240000\n",
       "16   16      2020-01-06   AC     AC-2 300000\n",
       "17   17      2020-01-06   AC     AC-2 210000\n",
       "18   18      2020-01-06   AC     AC-2 190000\n",
       "19   19      2020-01-06   AD     AD-1 280000\n",
       "20   20      2020-01-06   AD     AD-1 290000\n",
       "21   21      2020-01-06   AD     AD-1 230000\n",
       "22   22      2020-01-06   AD     AD-2 130000\n",
       "23   23      2020-01-06   AD     AD-2 350000\n",
       "24   24      2020-01-06   AD     AD-2 210000\n",
       "25   25      2020-01-07   AA     AA-1 280000\n",
       "26   26      2020-01-07   AA     AA-1 350000\n",
       "27   27      2020-01-07   AA     AA-1 400000\n",
       "28   28      2020-01-07   AA     AA-2 200000\n",
       "29   29      2020-01-07   AA     AA-2 140000\n",
       "30   30      2020-01-07   AA     AA-2 310000\n",
       "...  ...     ...          ...    ...  ...   \n",
       "9725 9725    2020-05-29   AQ     AQ-2 350000\n",
       "9726 9726    2020-05-29   AR     AR-1 360000\n",
       "9727 9727    2020-05-29   AR     AR-1 370000\n",
       "9728 9728    2020-05-29   AR     AR-1 200000\n",
       "9729 9729    2020-05-29   AR     AR-1 340000\n",
       "9730 9730    2020-05-29   AR     AR-2 430000\n",
       "9731 9731    2020-05-29   AR     AR-2 540000\n",
       "9732 9732    2020-05-29   AR     AR-2 140000\n",
       "9733 9733    2020-05-29   AR     AR-2 400000\n",
       "9734 9734    2020-05-29   AS     AS-1 340000\n",
       "9735 9735    2020-05-29   AS     AS-1 390000\n",
       "9736 9736    2020-05-29   AS     AS-1 280000\n",
       "9737 9737    2020-05-29   AS     AS-1 270000\n",
       "9738 9738    2020-05-29   AS     AS-2 220000\n",
       "9739 9739    2020-05-29   AS     AS-2 360000\n",
       "9740 9740    2020-05-29   AS     AS-2 310000\n",
       "9741 9741    2020-05-29   AT     AT-1 300000\n",
       "9742 9742    2020-05-29   AT     AT-1 300000\n",
       "9743 9743    2020-05-29   AT     AT-1 140000\n",
       "9744 9744    2020-05-29   AT     AT-2 260000\n",
       "9745 9745    2020-05-29   AT     AT-2 310000\n",
       "9746 9746    2020-05-29   AT     AT-2 330000\n",
       "9747 9747    2020-05-29   AU     AU-1 330000\n",
       "9748 9748    2020-05-29   AU     AU-1 420000\n",
       "9749 9749    2020-05-29   AU     AU-1 220000\n",
       "9750 9750    2020-05-29   AV     AV-1 480000\n",
       "9751 9751    2020-05-29   AV     AV-1 350000\n",
       "9752 9752    2020-05-29   AV     AV-1 310000\n",
       "9753 9753    2020-05-29   AV     AV-2 300000\n",
       "9754 9754    2020-05-29   AV     AV-2 470000"
      ]
     },
     "metadata": {},
     "output_type": "display_data"
    }
   ],
   "source": [
    "df_loan"
   ]
  },
  {
   "cell_type": "markdown",
   "metadata": {},
   "source": [
    "## Summary data bulan lalu (Mei 2020)\n",
    "\n",
    "### Memfilter data bulan Mei 2020, dan menjumlahkan data per cabang"
   ]
  },
  {
   "cell_type": "code",
   "execution_count": 4,
   "metadata": {},
   "outputs": [
    {
     "name": "stderr",
     "output_type": "stream",
     "text": [
      "Warning message:\n",
      "\"package 'dplyr' was built under R version 3.6.3\"\n",
      "Attaching package: 'dplyr'\n",
      "\n",
      "The following objects are masked from 'package:stats':\n",
      "\n",
      "    filter, lag\n",
      "\n",
      "The following objects are masked from 'package:base':\n",
      "\n",
      "    intersect, setdiff, setequal, union\n",
      "\n",
      "`summarise()` ungrouping output (override with `.groups` argument)\n"
     ]
    },
    {
     "data": {
      "text/html": [
       "<table>\n",
       "<thead><tr><th scope=col>cabang</th><th scope=col>total_amount</th></tr></thead>\n",
       "<tbody>\n",
       "\t<tr><td>AA      </td><td>75710000</td></tr>\n",
       "\t<tr><td>AB      </td><td>81440000</td></tr>\n",
       "\t<tr><td>AC      </td><td>83990000</td></tr>\n",
       "\t<tr><td>AD      </td><td>76080000</td></tr>\n",
       "\t<tr><td>AE      </td><td>54200000</td></tr>\n",
       "\t<tr><td>AF      </td><td>68040000</td></tr>\n",
       "\t<tr><td>AG      </td><td>74080000</td></tr>\n",
       "\t<tr><td>AH      </td><td>73840000</td></tr>\n",
       "\t<tr><td>AI      </td><td>46640000</td></tr>\n",
       "\t<tr><td>AJ      </td><td>43580000</td></tr>\n",
       "\t<tr><td>AK      </td><td>44590000</td></tr>\n",
       "\t<tr><td>AL      </td><td>40650000</td></tr>\n",
       "\t<tr><td>AM      </td><td>44010000</td></tr>\n",
       "\t<tr><td>AN      </td><td>39700000</td></tr>\n",
       "\t<tr><td>AO      </td><td>39120000</td></tr>\n",
       "\t<tr><td>AP      </td><td>44740000</td></tr>\n",
       "\t<tr><td>AQ      </td><td>39190000</td></tr>\n",
       "\t<tr><td>AR      </td><td>44230000</td></tr>\n",
       "\t<tr><td>AS      </td><td>31740000</td></tr>\n",
       "\t<tr><td>AT      </td><td>34840000</td></tr>\n",
       "\t<tr><td>AU      </td><td>35610000</td></tr>\n",
       "\t<tr><td>AV      </td><td>30280000</td></tr>\n",
       "</tbody>\n",
       "</table>\n"
      ],
      "text/latex": [
       "\\begin{tabular}{r|ll}\n",
       " cabang & total\\_amount\\\\\n",
       "\\hline\n",
       "\t AA       & 75710000\\\\\n",
       "\t AB       & 81440000\\\\\n",
       "\t AC       & 83990000\\\\\n",
       "\t AD       & 76080000\\\\\n",
       "\t AE       & 54200000\\\\\n",
       "\t AF       & 68040000\\\\\n",
       "\t AG       & 74080000\\\\\n",
       "\t AH       & 73840000\\\\\n",
       "\t AI       & 46640000\\\\\n",
       "\t AJ       & 43580000\\\\\n",
       "\t AK       & 44590000\\\\\n",
       "\t AL       & 40650000\\\\\n",
       "\t AM       & 44010000\\\\\n",
       "\t AN       & 39700000\\\\\n",
       "\t AO       & 39120000\\\\\n",
       "\t AP       & 44740000\\\\\n",
       "\t AQ       & 39190000\\\\\n",
       "\t AR       & 44230000\\\\\n",
       "\t AS       & 31740000\\\\\n",
       "\t AT       & 34840000\\\\\n",
       "\t AU       & 35610000\\\\\n",
       "\t AV       & 30280000\\\\\n",
       "\\end{tabular}\n"
      ],
      "text/markdown": [
       "\n",
       "| cabang | total_amount |\n",
       "|---|---|\n",
       "| AA       | 75710000 |\n",
       "| AB       | 81440000 |\n",
       "| AC       | 83990000 |\n",
       "| AD       | 76080000 |\n",
       "| AE       | 54200000 |\n",
       "| AF       | 68040000 |\n",
       "| AG       | 74080000 |\n",
       "| AH       | 73840000 |\n",
       "| AI       | 46640000 |\n",
       "| AJ       | 43580000 |\n",
       "| AK       | 44590000 |\n",
       "| AL       | 40650000 |\n",
       "| AM       | 44010000 |\n",
       "| AN       | 39700000 |\n",
       "| AO       | 39120000 |\n",
       "| AP       | 44740000 |\n",
       "| AQ       | 39190000 |\n",
       "| AR       | 44230000 |\n",
       "| AS       | 31740000 |\n",
       "| AT       | 34840000 |\n",
       "| AU       | 35610000 |\n",
       "| AV       | 30280000 |\n",
       "\n"
      ],
      "text/plain": [
       "   cabang total_amount\n",
       "1  AA     75710000    \n",
       "2  AB     81440000    \n",
       "3  AC     83990000    \n",
       "4  AD     76080000    \n",
       "5  AE     54200000    \n",
       "6  AF     68040000    \n",
       "7  AG     74080000    \n",
       "8  AH     73840000    \n",
       "9  AI     46640000    \n",
       "10 AJ     43580000    \n",
       "11 AK     44590000    \n",
       "12 AL     40650000    \n",
       "13 AM     44010000    \n",
       "14 AN     39700000    \n",
       "15 AO     39120000    \n",
       "16 AP     44740000    \n",
       "17 AQ     39190000    \n",
       "18 AR     44230000    \n",
       "19 AS     31740000    \n",
       "20 AT     34840000    \n",
       "21 AU     35610000    \n",
       "22 AV     30280000    "
      ]
     },
     "metadata": {},
     "output_type": "display_data"
    }
   ],
   "source": [
    "# load package dplyr \n",
    "library(dplyr)\n",
    "# Menggunakan pipe %>% untuk menyambungkan fungsi\n",
    "# Menyimpan hasil pada dataframe df_loan_mei\n",
    "# Memfilter data dengan tanggal cair lebih besar sama dengan 1 Mei dan lebih kecil sama dengan 31 Mei menggunakan fungsi filter()\n",
    "# Kelompokkan data berdasarkan cabang menggunakan group_by()\n",
    "# Menampilkan ringkasan nilai menggunakan fungsi summarise()\n",
    "df_loan_mei <- df_loan %>%\n",
    "    filter(tanggal_cair >= '2020-05-01', tanggal_cair <= '2020-05-31') %>%\n",
    "    group_by(cabang) %>%\n",
    "    summarise(total_amount = sum(amount))\n",
    "# Tampilkan hasil \n",
    "df_loan_mei"
   ]
  },
  {
   "cell_type": "markdown",
   "metadata": {},
   "source": [
    "### Menampilkan data 5 cabang dengan total amount paling besar"
   ]
  },
  {
   "cell_type": "code",
   "execution_count": 5,
   "metadata": {},
   "outputs": [
    {
     "name": "stderr",
     "output_type": "stream",
     "text": [
      "Warning message:\n",
      "\"package 'scales' was built under R version 3.6.3\""
     ]
    },
    {
     "data": {
      "text/html": [
       "<table>\n",
       "<thead><tr><th scope=col>cabang</th><th scope=col>total_amount</th></tr></thead>\n",
       "<tbody>\n",
       "\t<tr><td>AC        </td><td>83,990,000</td></tr>\n",
       "\t<tr><td>AB        </td><td>81,440,000</td></tr>\n",
       "\t<tr><td>AD        </td><td>76,080,000</td></tr>\n",
       "\t<tr><td>AA        </td><td>75,710,000</td></tr>\n",
       "\t<tr><td>AG        </td><td>74,080,000</td></tr>\n",
       "</tbody>\n",
       "</table>\n"
      ],
      "text/latex": [
       "\\begin{tabular}{r|ll}\n",
       " cabang & total\\_amount\\\\\n",
       "\\hline\n",
       "\t AC         & 83,990,000\\\\\n",
       "\t AB         & 81,440,000\\\\\n",
       "\t AD         & 76,080,000\\\\\n",
       "\t AA         & 75,710,000\\\\\n",
       "\t AG         & 74,080,000\\\\\n",
       "\\end{tabular}\n"
      ],
      "text/markdown": [
       "\n",
       "| cabang | total_amount |\n",
       "|---|---|\n",
       "| AC         | 83,990,000 |\n",
       "| AB         | 81,440,000 |\n",
       "| AD         | 76,080,000 |\n",
       "| AA         | 75,710,000 |\n",
       "| AG         | 74,080,000 |\n",
       "\n"
      ],
      "text/plain": [
       "  cabang total_amount\n",
       "1 AC     83,990,000  \n",
       "2 AB     81,440,000  \n",
       "3 AD     76,080,000  \n",
       "4 AA     75,710,000  \n",
       "5 AG     74,080,000  "
      ]
     },
     "metadata": {},
     "output_type": "display_data"
    }
   ],
   "source": [
    "library(dplyr)\n",
    "# Menggunakan package Scales untuk memformat value data numerik menjadi format yang mudah dibaca\n",
    "library(scales)\n",
    "# Menggunakan dataframe df_loan_mei dari hasil sebelumnya\n",
    "# Mengurutkan data total_amount dari yang terbesar menggunakan fungsi arrange() dan desc()\n",
    "# Menggunakan fungsi mutate() untuk membuat variabel baru berdasarkan variabel yang ada\n",
    "# Menggunakan fungsi comma() untuk mengubah numerik menjadi ada simbol ribuan\n",
    "# Menampilkan 5 data teratas menggunakan fungsi head()\n",
    "df_loan_mei %>%\n",
    "    arrange(desc(total_amount)) %>%\n",
    "    mutate(total_amount = comma(total_amount)) %>%\n",
    "    head(5)"
   ]
  },
  {
   "cell_type": "markdown",
   "metadata": {},
   "source": [
    "### Menampilkan data 5 cabang dengan total amount paling kecil"
   ]
  },
  {
   "cell_type": "code",
   "execution_count": 6,
   "metadata": {},
   "outputs": [
    {
     "data": {
      "text/html": [
       "<table>\n",
       "<thead><tr><th scope=col>cabang</th><th scope=col>total_amount</th></tr></thead>\n",
       "<tbody>\n",
       "\t<tr><td>AV        </td><td>30,280,000</td></tr>\n",
       "\t<tr><td>AS        </td><td>31,740,000</td></tr>\n",
       "\t<tr><td>AT        </td><td>34,840,000</td></tr>\n",
       "\t<tr><td>AU        </td><td>35,610,000</td></tr>\n",
       "\t<tr><td>AO        </td><td>39,120,000</td></tr>\n",
       "</tbody>\n",
       "</table>\n"
      ],
      "text/latex": [
       "\\begin{tabular}{r|ll}\n",
       " cabang & total\\_amount\\\\\n",
       "\\hline\n",
       "\t AV         & 30,280,000\\\\\n",
       "\t AS         & 31,740,000\\\\\n",
       "\t AT         & 34,840,000\\\\\n",
       "\t AU         & 35,610,000\\\\\n",
       "\t AO         & 39,120,000\\\\\n",
       "\\end{tabular}\n"
      ],
      "text/markdown": [
       "\n",
       "| cabang | total_amount |\n",
       "|---|---|\n",
       "| AV         | 30,280,000 |\n",
       "| AS         | 31,740,000 |\n",
       "| AT         | 34,840,000 |\n",
       "| AU         | 35,610,000 |\n",
       "| AO         | 39,120,000 |\n",
       "\n"
      ],
      "text/plain": [
       "  cabang total_amount\n",
       "1 AV     30,280,000  \n",
       "2 AS     31,740,000  \n",
       "3 AT     34,840,000  \n",
       "4 AU     35,610,000  \n",
       "5 AO     39,120,000  "
      ]
     },
     "metadata": {},
     "output_type": "display_data"
    }
   ],
   "source": [
    "library(dplyr)\n",
    "library(scales)\n",
    "df_loan_mei %>%\n",
    "    arrange(total_amount) %>%\n",
    "    mutate(total_amount = comma(total_amount)) %>%\n",
    "    head(5)"
   ]
  },
  {
   "cell_type": "markdown",
   "metadata": {},
   "source": [
    "dari 2 data diatas, terlihat perbedaan yang sangat signifikan antara 5 cabang dengan total amount terbesar dan 5 cabang dengan total amount terkecil. Hal ini mungkin karena umur cabang yang berbeda-beda karena ada pertumbuhan cabang baru setiap bulannya."
   ]
  },
  {
   "cell_type": "markdown",
   "metadata": {},
   "source": [
    "## Melihat hubungan umur cabang dengan total amount\n",
    "\n",
    "### Menghitung umur cabang (dalam bulan)\n",
    "\n",
    "Karena data umur cabang tidak tersedia, maka perlu dihitung terlebih dahulu dengan menghitung sudah berapa lama sejak tanggal cair pertama sampai dengan bulan Mei."
   ]
  },
  {
   "cell_type": "code",
   "execution_count": 7,
   "metadata": {},
   "outputs": [
    {
     "name": "stderr",
     "output_type": "stream",
     "text": [
      "`summarise()` ungrouping output (override with `.groups` argument)\n"
     ]
    },
    {
     "data": {
      "text/html": [
       "<table>\n",
       "<thead><tr><th scope=col>cabang</th><th scope=col>pertama_cair</th><th scope=col>umur</th></tr></thead>\n",
       "<tbody>\n",
       "\t<tr><td>AA        </td><td>2020-01-06</td><td>4         </td></tr>\n",
       "\t<tr><td>AB        </td><td>2020-01-06</td><td>4         </td></tr>\n",
       "\t<tr><td>AC        </td><td>2020-01-06</td><td>4         </td></tr>\n",
       "\t<tr><td>AD        </td><td>2020-01-06</td><td>4         </td></tr>\n",
       "\t<tr><td>AE        </td><td>2020-02-03</td><td>3         </td></tr>\n",
       "\t<tr><td>AF        </td><td>2020-02-03</td><td>3         </td></tr>\n",
       "\t<tr><td>AG        </td><td>2020-02-03</td><td>3         </td></tr>\n",
       "\t<tr><td>AH        </td><td>2020-02-03</td><td>3         </td></tr>\n",
       "\t<tr><td>AI        </td><td>2020-03-02</td><td>2         </td></tr>\n",
       "\t<tr><td>AJ        </td><td>2020-03-02</td><td>2         </td></tr>\n",
       "\t<tr><td>AK        </td><td>2020-03-02</td><td>2         </td></tr>\n",
       "\t<tr><td>AL        </td><td>2020-03-02</td><td>2         </td></tr>\n",
       "\t<tr><td>AM        </td><td>2020-03-02</td><td>2         </td></tr>\n",
       "\t<tr><td>AN        </td><td>2020-04-06</td><td>1         </td></tr>\n",
       "\t<tr><td>AO        </td><td>2020-04-06</td><td>1         </td></tr>\n",
       "\t<tr><td>AP        </td><td>2020-04-06</td><td>1         </td></tr>\n",
       "\t<tr><td>AQ        </td><td>2020-04-06</td><td>1         </td></tr>\n",
       "\t<tr><td>AR        </td><td>2020-04-06</td><td>1         </td></tr>\n",
       "\t<tr><td>AS        </td><td>2020-05-04</td><td>0         </td></tr>\n",
       "\t<tr><td>AT        </td><td>2020-05-04</td><td>0         </td></tr>\n",
       "\t<tr><td>AU        </td><td>2020-05-04</td><td>0         </td></tr>\n",
       "\t<tr><td>AV        </td><td>2020-05-04</td><td>0         </td></tr>\n",
       "</tbody>\n",
       "</table>\n"
      ],
      "text/latex": [
       "\\begin{tabular}{r|lll}\n",
       " cabang & pertama\\_cair & umur\\\\\n",
       "\\hline\n",
       "\t AA         & 2020-01-06 & 4         \\\\\n",
       "\t AB         & 2020-01-06 & 4         \\\\\n",
       "\t AC         & 2020-01-06 & 4         \\\\\n",
       "\t AD         & 2020-01-06 & 4         \\\\\n",
       "\t AE         & 2020-02-03 & 3         \\\\\n",
       "\t AF         & 2020-02-03 & 3         \\\\\n",
       "\t AG         & 2020-02-03 & 3         \\\\\n",
       "\t AH         & 2020-02-03 & 3         \\\\\n",
       "\t AI         & 2020-03-02 & 2         \\\\\n",
       "\t AJ         & 2020-03-02 & 2         \\\\\n",
       "\t AK         & 2020-03-02 & 2         \\\\\n",
       "\t AL         & 2020-03-02 & 2         \\\\\n",
       "\t AM         & 2020-03-02 & 2         \\\\\n",
       "\t AN         & 2020-04-06 & 1         \\\\\n",
       "\t AO         & 2020-04-06 & 1         \\\\\n",
       "\t AP         & 2020-04-06 & 1         \\\\\n",
       "\t AQ         & 2020-04-06 & 1         \\\\\n",
       "\t AR         & 2020-04-06 & 1         \\\\\n",
       "\t AS         & 2020-05-04 & 0         \\\\\n",
       "\t AT         & 2020-05-04 & 0         \\\\\n",
       "\t AU         & 2020-05-04 & 0         \\\\\n",
       "\t AV         & 2020-05-04 & 0         \\\\\n",
       "\\end{tabular}\n"
      ],
      "text/markdown": [
       "\n",
       "| cabang | pertama_cair | umur |\n",
       "|---|---|---|\n",
       "| AA         | 2020-01-06 | 4          |\n",
       "| AB         | 2020-01-06 | 4          |\n",
       "| AC         | 2020-01-06 | 4          |\n",
       "| AD         | 2020-01-06 | 4          |\n",
       "| AE         | 2020-02-03 | 3          |\n",
       "| AF         | 2020-02-03 | 3          |\n",
       "| AG         | 2020-02-03 | 3          |\n",
       "| AH         | 2020-02-03 | 3          |\n",
       "| AI         | 2020-03-02 | 2          |\n",
       "| AJ         | 2020-03-02 | 2          |\n",
       "| AK         | 2020-03-02 | 2          |\n",
       "| AL         | 2020-03-02 | 2          |\n",
       "| AM         | 2020-03-02 | 2          |\n",
       "| AN         | 2020-04-06 | 1          |\n",
       "| AO         | 2020-04-06 | 1          |\n",
       "| AP         | 2020-04-06 | 1          |\n",
       "| AQ         | 2020-04-06 | 1          |\n",
       "| AR         | 2020-04-06 | 1          |\n",
       "| AS         | 2020-05-04 | 0          |\n",
       "| AT         | 2020-05-04 | 0          |\n",
       "| AU         | 2020-05-04 | 0          |\n",
       "| AV         | 2020-05-04 | 0          |\n",
       "\n"
      ],
      "text/plain": [
       "   cabang pertama_cair umur\n",
       "1  AA     2020-01-06   4   \n",
       "2  AB     2020-01-06   4   \n",
       "3  AC     2020-01-06   4   \n",
       "4  AD     2020-01-06   4   \n",
       "5  AE     2020-02-03   3   \n",
       "6  AF     2020-02-03   3   \n",
       "7  AG     2020-02-03   3   \n",
       "8  AH     2020-02-03   3   \n",
       "9  AI     2020-03-02   2   \n",
       "10 AJ     2020-03-02   2   \n",
       "11 AK     2020-03-02   2   \n",
       "12 AL     2020-03-02   2   \n",
       "13 AM     2020-03-02   2   \n",
       "14 AN     2020-04-06   1   \n",
       "15 AO     2020-04-06   1   \n",
       "16 AP     2020-04-06   1   \n",
       "17 AQ     2020-04-06   1   \n",
       "18 AR     2020-04-06   1   \n",
       "19 AS     2020-05-04   0   \n",
       "20 AT     2020-05-04   0   \n",
       "21 AU     2020-05-04   0   \n",
       "22 AV     2020-05-04   0   "
      ]
     },
     "metadata": {},
     "output_type": "display_data"
    }
   ],
   "source": [
    "library(dplyr)\n",
    "# Menyimpan hasil pada dataframe df_cabang_umur\n",
    "# Mencari tanggal pertama_cair berdasarkan nilai terkecil tanggal_cair\n",
    "# Untuk memudahkan cara perhitungan umur dengan membagi jumlah selisih hari dengan 30, karena itu tanggal batas nya menggunakan tanggal tengah bulan (2020-05-15), agar tidak terlalu mempengaruhi presisi perhitungan\n",
    "df_cabang_umur <- df_loan %>%\n",
    "  group_by(cabang) %>% \n",
    "  summarise(pertama_cair = min(tanggal_cair)) %>% \n",
    "  mutate(umur = as.numeric(as.Date('2020-05-15') - as.Date(pertama_cair)) %/% 30) \n",
    "df_cabang_umur"
   ]
  },
  {
   "cell_type": "markdown",
   "metadata": {},
   "source": [
    "### Gabungkan data umur dan performa Mei"
   ]
  },
  {
   "cell_type": "code",
   "execution_count": 8,
   "metadata": {},
   "outputs": [
    {
     "data": {
      "text/html": [
       "<table>\n",
       "<thead><tr><th scope=col>cabang</th><th scope=col>pertama_cair</th><th scope=col>umur</th><th scope=col>total_amount</th></tr></thead>\n",
       "<tbody>\n",
       "\t<tr><td>AA        </td><td>2020-01-06</td><td>4         </td><td>75710000  </td></tr>\n",
       "\t<tr><td>AB        </td><td>2020-01-06</td><td>4         </td><td>81440000  </td></tr>\n",
       "\t<tr><td>AC        </td><td>2020-01-06</td><td>4         </td><td>83990000  </td></tr>\n",
       "\t<tr><td>AD        </td><td>2020-01-06</td><td>4         </td><td>76080000  </td></tr>\n",
       "\t<tr><td>AE        </td><td>2020-02-03</td><td>3         </td><td>54200000  </td></tr>\n",
       "\t<tr><td>AF        </td><td>2020-02-03</td><td>3         </td><td>68040000  </td></tr>\n",
       "\t<tr><td>AG        </td><td>2020-02-03</td><td>3         </td><td>74080000  </td></tr>\n",
       "\t<tr><td>AH        </td><td>2020-02-03</td><td>3         </td><td>73840000  </td></tr>\n",
       "\t<tr><td>AI        </td><td>2020-03-02</td><td>2         </td><td>46640000  </td></tr>\n",
       "\t<tr><td>AJ        </td><td>2020-03-02</td><td>2         </td><td>43580000  </td></tr>\n",
       "\t<tr><td>AK        </td><td>2020-03-02</td><td>2         </td><td>44590000  </td></tr>\n",
       "\t<tr><td>AL        </td><td>2020-03-02</td><td>2         </td><td>40650000  </td></tr>\n",
       "\t<tr><td>AM        </td><td>2020-03-02</td><td>2         </td><td>44010000  </td></tr>\n",
       "\t<tr><td>AN        </td><td>2020-04-06</td><td>1         </td><td>39700000  </td></tr>\n",
       "\t<tr><td>AO        </td><td>2020-04-06</td><td>1         </td><td>39120000  </td></tr>\n",
       "\t<tr><td>AP        </td><td>2020-04-06</td><td>1         </td><td>44740000  </td></tr>\n",
       "\t<tr><td>AQ        </td><td>2020-04-06</td><td>1         </td><td>39190000  </td></tr>\n",
       "\t<tr><td>AR        </td><td>2020-04-06</td><td>1         </td><td>44230000  </td></tr>\n",
       "\t<tr><td>AS        </td><td>2020-05-04</td><td>0         </td><td>31740000  </td></tr>\n",
       "\t<tr><td>AT        </td><td>2020-05-04</td><td>0         </td><td>34840000  </td></tr>\n",
       "\t<tr><td>AU        </td><td>2020-05-04</td><td>0         </td><td>35610000  </td></tr>\n",
       "\t<tr><td>AV        </td><td>2020-05-04</td><td>0         </td><td>30280000  </td></tr>\n",
       "</tbody>\n",
       "</table>\n"
      ],
      "text/latex": [
       "\\begin{tabular}{r|llll}\n",
       " cabang & pertama\\_cair & umur & total\\_amount\\\\\n",
       "\\hline\n",
       "\t AA         & 2020-01-06 & 4          & 75710000  \\\\\n",
       "\t AB         & 2020-01-06 & 4          & 81440000  \\\\\n",
       "\t AC         & 2020-01-06 & 4          & 83990000  \\\\\n",
       "\t AD         & 2020-01-06 & 4          & 76080000  \\\\\n",
       "\t AE         & 2020-02-03 & 3          & 54200000  \\\\\n",
       "\t AF         & 2020-02-03 & 3          & 68040000  \\\\\n",
       "\t AG         & 2020-02-03 & 3          & 74080000  \\\\\n",
       "\t AH         & 2020-02-03 & 3          & 73840000  \\\\\n",
       "\t AI         & 2020-03-02 & 2          & 46640000  \\\\\n",
       "\t AJ         & 2020-03-02 & 2          & 43580000  \\\\\n",
       "\t AK         & 2020-03-02 & 2          & 44590000  \\\\\n",
       "\t AL         & 2020-03-02 & 2          & 40650000  \\\\\n",
       "\t AM         & 2020-03-02 & 2          & 44010000  \\\\\n",
       "\t AN         & 2020-04-06 & 1          & 39700000  \\\\\n",
       "\t AO         & 2020-04-06 & 1          & 39120000  \\\\\n",
       "\t AP         & 2020-04-06 & 1          & 44740000  \\\\\n",
       "\t AQ         & 2020-04-06 & 1          & 39190000  \\\\\n",
       "\t AR         & 2020-04-06 & 1          & 44230000  \\\\\n",
       "\t AS         & 2020-05-04 & 0          & 31740000  \\\\\n",
       "\t AT         & 2020-05-04 & 0          & 34840000  \\\\\n",
       "\t AU         & 2020-05-04 & 0          & 35610000  \\\\\n",
       "\t AV         & 2020-05-04 & 0          & 30280000  \\\\\n",
       "\\end{tabular}\n"
      ],
      "text/markdown": [
       "\n",
       "| cabang | pertama_cair | umur | total_amount |\n",
       "|---|---|---|---|\n",
       "| AA         | 2020-01-06 | 4          | 75710000   |\n",
       "| AB         | 2020-01-06 | 4          | 81440000   |\n",
       "| AC         | 2020-01-06 | 4          | 83990000   |\n",
       "| AD         | 2020-01-06 | 4          | 76080000   |\n",
       "| AE         | 2020-02-03 | 3          | 54200000   |\n",
       "| AF         | 2020-02-03 | 3          | 68040000   |\n",
       "| AG         | 2020-02-03 | 3          | 74080000   |\n",
       "| AH         | 2020-02-03 | 3          | 73840000   |\n",
       "| AI         | 2020-03-02 | 2          | 46640000   |\n",
       "| AJ         | 2020-03-02 | 2          | 43580000   |\n",
       "| AK         | 2020-03-02 | 2          | 44590000   |\n",
       "| AL         | 2020-03-02 | 2          | 40650000   |\n",
       "| AM         | 2020-03-02 | 2          | 44010000   |\n",
       "| AN         | 2020-04-06 | 1          | 39700000   |\n",
       "| AO         | 2020-04-06 | 1          | 39120000   |\n",
       "| AP         | 2020-04-06 | 1          | 44740000   |\n",
       "| AQ         | 2020-04-06 | 1          | 39190000   |\n",
       "| AR         | 2020-04-06 | 1          | 44230000   |\n",
       "| AS         | 2020-05-04 | 0          | 31740000   |\n",
       "| AT         | 2020-05-04 | 0          | 34840000   |\n",
       "| AU         | 2020-05-04 | 0          | 35610000   |\n",
       "| AV         | 2020-05-04 | 0          | 30280000   |\n",
       "\n"
      ],
      "text/plain": [
       "   cabang pertama_cair umur total_amount\n",
       "1  AA     2020-01-06   4    75710000    \n",
       "2  AB     2020-01-06   4    81440000    \n",
       "3  AC     2020-01-06   4    83990000    \n",
       "4  AD     2020-01-06   4    76080000    \n",
       "5  AE     2020-02-03   3    54200000    \n",
       "6  AF     2020-02-03   3    68040000    \n",
       "7  AG     2020-02-03   3    74080000    \n",
       "8  AH     2020-02-03   3    73840000    \n",
       "9  AI     2020-03-02   2    46640000    \n",
       "10 AJ     2020-03-02   2    43580000    \n",
       "11 AK     2020-03-02   2    44590000    \n",
       "12 AL     2020-03-02   2    40650000    \n",
       "13 AM     2020-03-02   2    44010000    \n",
       "14 AN     2020-04-06   1    39700000    \n",
       "15 AO     2020-04-06   1    39120000    \n",
       "16 AP     2020-04-06   1    44740000    \n",
       "17 AQ     2020-04-06   1    39190000    \n",
       "18 AR     2020-04-06   1    44230000    \n",
       "19 AS     2020-05-04   0    31740000    \n",
       "20 AT     2020-05-04   0    34840000    \n",
       "21 AU     2020-05-04   0    35610000    \n",
       "22 AV     2020-05-04   0    30280000    "
      ]
     },
     "metadata": {},
     "output_type": "display_data"
    }
   ],
   "source": [
    "library(dplyr)\n",
    "# Menyimpan hasil pada dataframe df_loan_mei_umur\n",
    "# Menggabungkan df_cabang_umur dengan df_loan_mei menggunakan fungsi inner_join()\n",
    "df_loan_mei_umur <- df_cabang_umur %>%\n",
    "    inner_join(df_loan_mei, by = 'cabang')\n",
    "df_loan_mei_umur"
   ]
  },
  {
   "cell_type": "markdown",
   "metadata": {},
   "source": [
    "### Plot relasi umur dan performa Mei"
   ]
  },
  {
   "cell_type": "code",
   "execution_count": 10,
   "metadata": {},
   "outputs": [
    {
     "name": "stderr",
     "output_type": "stream",
     "text": [
      "Warning message:\n",
      "\"package 'ggplot2' was built under R version 3.6.3\""
     ]
    },
    {
     "data": {
      "image/png": "[encoded data removed]",
      "text/plain": [
       "plot without title"
      ]
     },
     "metadata": {},
     "output_type": "display_data"
    }
   ],
   "source": [
    "# Menggunakan package ggplot2\n",
    "library(ggplot2)\n",
    "\n",
    "ggplot(df_loan_mei_umur, aes(x = umur, y = total_amount)) +\n",
    "    geom_point() +\n",
    "    scale_y_continuous(labels = scales::comma) +\n",
    "    labs(title = \"Semakin berumur, performa cabang akan semakin baik\",\n",
    "        x = \"Umur(bulan)\",\n",
    "        y = \"Total Amount\")"
   ]
  },
  {
   "cell_type": "markdown",
   "metadata": {},
   "source": [
    "#### Kesimpulan :\n",
    "Terlihat bahwa ada pola semakin tua cabang, maka performanya semakin baik. Hal ini karena cabang tersebut masih berkembang sehingga belum sampai pada performa maksimal. Akan tetapi pada masing-masing umur itu juga ada cabang yang performanya dibawah yang lain. "
   ]
  },
  {
   "cell_type": "markdown",
   "metadata": {},
   "source": [
    "## Cabang dengan performa rendah pada kelompok umur\n",
    "\n",
    "### Mencari cabang yang performa rendah untuk setiap umur"
   ]
  },
  {
   "cell_type": "code",
   "execution_count": 11,
   "metadata": {},
   "outputs": [
    {
     "name": "stderr",
     "output_type": "stream",
     "text": [
      "`mutate_if()` ignored the following grouping variables:\n",
      "Column `umur`\n",
      "Warning message:\n",
      "\"`funs()` is deprecated as of dplyr 0.8.0.\n",
      "Please use a list of either functions or lambdas: \n",
      "\n",
      "  # Simple named list: \n",
      "  list(mean = mean, median = median)\n",
      "\n",
      "  # Auto named with `tibble::lst()`: \n",
      "  tibble::lst(mean, median)\n",
      "\n",
      "  # Using lambdas\n",
      "  list(~ mean(., trim = .2), ~ median(., na.rm = TRUE))\n",
      "This warning is displayed once every 8 hours.\n",
      "Call `lifecycle::last_warnings()` to see where this warning was generated.\""
     ]
    },
    {
     "data": {
      "text/html": [
       "<table>\n",
       "<thead><tr><th scope=col>cabang</th><th scope=col>pertama_cair</th><th scope=col>umur</th><th scope=col>total_amount</th><th scope=col>Q1</th><th scope=col>Q3</th><th scope=col>IQR</th><th scope=col>flag</th></tr></thead>\n",
       "<tbody>\n",
       "\t<tr><td>AE        </td><td>2020-02-03</td><td>3         </td><td>54,200,000</td><td>64,580,000</td><td>73,900,000</td><td>9,320,000 </td><td>rendah    </td></tr>\n",
       "\t<tr><td>AL        </td><td>2020-03-02</td><td>2         </td><td>40,650,000</td><td>43,580,000</td><td>44,590,000</td><td>1,010,000 </td><td>rendah    </td></tr>\n",
       "</tbody>\n",
       "</table>\n"
      ],
      "text/latex": [
       "\\begin{tabular}{r|llllllll}\n",
       " cabang & pertama\\_cair & umur & total\\_amount & Q1 & Q3 & IQR & flag\\\\\n",
       "\\hline\n",
       "\t AE         & 2020-02-03 & 3          & 54,200,000 & 64,580,000 & 73,900,000 & 9,320,000  & rendah    \\\\\n",
       "\t AL         & 2020-03-02 & 2          & 40,650,000 & 43,580,000 & 44,590,000 & 1,010,000  & rendah    \\\\\n",
       "\\end{tabular}\n"
      ],
      "text/markdown": [
       "\n",
       "| cabang | pertama_cair | umur | total_amount | Q1 | Q3 | IQR | flag |\n",
       "|---|---|---|---|---|---|---|---|\n",
       "| AE         | 2020-02-03 | 3          | 54,200,000 | 64,580,000 | 73,900,000 | 9,320,000  | rendah     |\n",
       "| AL         | 2020-03-02 | 2          | 40,650,000 | 43,580,000 | 44,590,000 | 1,010,000  | rendah     |\n",
       "\n"
      ],
      "text/plain": [
       "  cabang pertama_cair umur total_amount Q1         Q3         IQR       flag  \n",
       "1 AE     2020-02-03   3    54,200,000   64,580,000 73,900,000 9,320,000 rendah\n",
       "2 AL     2020-03-02   2    40,650,000   43,580,000 44,590,000 1,010,000 rendah"
      ]
     },
     "metadata": {},
     "output_type": "display_data"
    }
   ],
   "source": [
    "library(dplyr)\n",
    "library(scales)\n",
    "# Menyimpan hasil pada dataframe df_loan_mei_flag\n",
    "# Mengelompokkan berdasarkan umur\n",
    "# Hitung nilai Quartile dan Inter Quartile Range\n",
    "df_loan_mei_flag <- df_loan_mei_umur %>% \n",
    "  group_by(umur) %>% \n",
    "  mutate(Q1 = quantile(total_amount, 0.25), \n",
    "         Q3 = quantile(total_amount, 0.75), \n",
    "         IQR = (Q3-Q1)) %>%\n",
    "# Buat flag dengan ketentuan rendah untuk total_amount lebih kecil dari (Q1 -IQR)\n",
    "  mutate(flag = ifelse(total_amount < (Q1 - IQR), 'rendah','baik'))\n",
    "# Tampilkan hasil flag rendah\n",
    "df_loan_mei_flag %>% \n",
    "  filter(flag == 'rendah') %>% \n",
    "  mutate_if(is.numeric, funs(comma))"
   ]
  },
  {
   "cell_type": "markdown",
   "metadata": {},
   "source": [
    "### Buat Scatterplot lagi dan beri warna merah pada cabang yang rendah"
   ]
  },
  {
   "cell_type": "code",
   "execution_count": 12,
   "metadata": {},
   "outputs": [
    {
     "data": {
      "image/png": "[encoded data removed]",
      "text/plain": [
       "plot without title"
      ]
     },
     "metadata": {},
     "output_type": "display_data"
    }
   ],
   "source": [
    "library(ggplot2)\n",
    "\n",
    "ggplot(df_loan_mei_flag, aes(x = umur, y = total_amount)) +\n",
    "  geom_point(aes(color = flag)) +\n",
    "  scale_color_manual(breaks = c(\"baik\", \"rendah\"),\n",
    "                        values=c(\"blue\", \"red\")) +\n",
    "  scale_y_continuous(labels = scales::comma) +\n",
    "  labs(title = \"Ada cabang berpeforma rendah padahal tidak termasuk bottom 5 nasional\",\n",
    "       color = \"\",\n",
    "       x = \"Umur (bulan)\",\n",
    "       y = \"Total Amount\")"
   ]
  },
  {
   "cell_type": "markdown",
   "metadata": {},
   "source": [
    "## Analisis cabang dengan performa rendah \n",
    "\n",
    "### Lihat perbandingan performa cabang di umur yang sama\n",
    "Akan dilihat hanya untuk yang umur 3 bulan saja, dilihat detail performa pada bulan mei dengan menghitung, \n",
    "- Jumlah hari pencairan dalam 1 bulan\n",
    "- Jumlah agen yang aktif\n",
    "- Total loan yang cair\n",
    "- Rata-rata amount cair per loan"
   ]
  },
  {
   "cell_type": "code",
   "execution_count": 13,
   "metadata": {},
   "outputs": [
    {
     "name": "stderr",
     "output_type": "stream",
     "text": [
      "`summarise()` regrouping output by 'cabang' (override with `.groups` argument)\n",
      "`mutate_if()` ignored the following grouping variables:\n",
      "Column `cabang`\n"
     ]
    },
    {
     "data": {
      "text/html": [
       "<table>\n",
       "<thead><tr><th scope=col>cabang</th><th scope=col>flag</th><th scope=col>jumlah_hari</th><th scope=col>agen_aktif</th><th scope=col>total_loan_cair</th><th scope=col>avg_amount</th><th scope=col>total_amount</th></tr></thead>\n",
       "<tbody>\n",
       "\t<tr><td>AE        </td><td>rendah    </td><td>21        </td><td>3         </td><td>175       </td><td>309,714   </td><td>54,200,000</td></tr>\n",
       "\t<tr><td>AF        </td><td>baik      </td><td>21        </td><td>3         </td><td>225       </td><td>302,400   </td><td>68,040,000</td></tr>\n",
       "\t<tr><td>AH        </td><td>baik      </td><td>21        </td><td>3         </td><td>241       </td><td>306,390   </td><td>73,840,000</td></tr>\n",
       "\t<tr><td>AG        </td><td>baik      </td><td>21        </td><td>3         </td><td>241       </td><td>307,386   </td><td>74,080,000</td></tr>\n",
       "</tbody>\n",
       "</table>\n"
      ],
      "text/latex": [
       "\\begin{tabular}{r|lllllll}\n",
       " cabang & flag & jumlah\\_hari & agen\\_aktif & total\\_loan\\_cair & avg\\_amount & total\\_amount\\\\\n",
       "\\hline\n",
       "\t AE         & rendah     & 21         & 3          & 175        & 309,714    & 54,200,000\\\\\n",
       "\t AF         & baik       & 21         & 3          & 225        & 302,400    & 68,040,000\\\\\n",
       "\t AH         & baik       & 21         & 3          & 241        & 306,390    & 73,840,000\\\\\n",
       "\t AG         & baik       & 21         & 3          & 241        & 307,386    & 74,080,000\\\\\n",
       "\\end{tabular}\n"
      ],
      "text/markdown": [
       "\n",
       "| cabang | flag | jumlah_hari | agen_aktif | total_loan_cair | avg_amount | total_amount |\n",
       "|---|---|---|---|---|---|---|\n",
       "| AE         | rendah     | 21         | 3          | 175        | 309,714    | 54,200,000 |\n",
       "| AF         | baik       | 21         | 3          | 225        | 302,400    | 68,040,000 |\n",
       "| AH         | baik       | 21         | 3          | 241        | 306,390    | 73,840,000 |\n",
       "| AG         | baik       | 21         | 3          | 241        | 307,386    | 74,080,000 |\n",
       "\n"
      ],
      "text/plain": [
       "  cabang flag   jumlah_hari agen_aktif total_loan_cair avg_amount total_amount\n",
       "1 AE     rendah 21          3          175             309,714    54,200,000  \n",
       "2 AF     baik   21          3          225             302,400    68,040,000  \n",
       "3 AH     baik   21          3          241             306,390    73,840,000  \n",
       "4 AG     baik   21          3          241             307,386    74,080,000  "
      ]
     },
     "metadata": {},
     "output_type": "display_data"
    }
   ],
   "source": [
    "library(dplyr)\n",
    "library(scales)\n",
    "df_loan_mei_flag %>% \n",
    "  filter(umur == 3) %>% \n",
    "  inner_join(df_loan, by = 'cabang') %>% \n",
    "  filter(tanggal_cair >= '2020-05-01', tanggal_cair <= '2020-05-31') %>% \n",
    "  group_by(cabang, flag) %>% \n",
    "  summarise(jumlah_hari = n_distinct(tanggal_cair),\n",
    "            agen_aktif = n_distinct(agen),\n",
    "            total_loan_cair = n_distinct(loan_id),\n",
    "            avg_amount = mean(amount), \n",
    "            total_amount = sum(amount)) %>% \n",
    "  arrange(total_amount) %>% \n",
    "  mutate_if(is.numeric, funs(comma))"
   ]
  },
  {
   "cell_type": "markdown",
   "metadata": {},
   "source": [
    "### Lihat perbandingan performa agen pada cabang yang rendah\n",
    "\n",
    "Dari hasil eksplorasi sebelumnya, terlihat bahwa yang berbeda jauh hanya total_loan_cair saja.\n",
    "Jumlah hari dan jumlah agen dalam 1 bulan sama semua.\n",
    "\n",
    "Selanjutnya perlu dilihat bagaimana perbandingan nya per agent.\n",
    "\n",
    "Untuk melanjutkan tadi, dilihat untuk yang umur 3 bulan dan flag nya rendah dilihat detail performa pada bulan mei per agen dengan mengihitung,\n",
    "- jumlah hari pencairan dalam 1 bulan,\n",
    "- total loan yang cair,\n",
    "- rata - rata amount cair per loan\n",
    "- total amount cair"
   ]
  },
  {
   "cell_type": "code",
   "execution_count": 14,
   "metadata": {},
   "outputs": [
    {
     "name": "stderr",
     "output_type": "stream",
     "text": [
      "`summarise()` regrouping output by 'cabang' (override with `.groups` argument)\n",
      "`mutate_if()` ignored the following grouping variables:\n",
      "Column `cabang`\n"
     ]
    },
    {
     "data": {
      "text/html": [
       "<table>\n",
       "<thead><tr><th scope=col>cabang</th><th scope=col>agen</th><th scope=col>jumlah_hari</th><th scope=col>total_loan_cair</th><th scope=col>avg_amount</th><th scope=col>total_amount</th></tr></thead>\n",
       "<tbody>\n",
       "\t<tr><td>AE        </td><td>AE-3      </td><td>4.0       </td><td>16        </td><td>310,625   </td><td>4,970,000 </td></tr>\n",
       "\t<tr><td>AE        </td><td>AE-2      </td><td>18.0      </td><td>73        </td><td>320,274   </td><td>23,380,000</td></tr>\n",
       "\t<tr><td>AE        </td><td>AE-1      </td><td>21.0      </td><td>86        </td><td>300,581   </td><td>25,850,000</td></tr>\n",
       "</tbody>\n",
       "</table>\n"
      ],
      "text/latex": [
       "\\begin{tabular}{r|llllll}\n",
       " cabang & agen & jumlah\\_hari & total\\_loan\\_cair & avg\\_amount & total\\_amount\\\\\n",
       "\\hline\n",
       "\t AE         & AE-3       & 4.0        & 16         & 310,625    & 4,970,000 \\\\\n",
       "\t AE         & AE-2       & 18.0       & 73         & 320,274    & 23,380,000\\\\\n",
       "\t AE         & AE-1       & 21.0       & 86         & 300,581    & 25,850,000\\\\\n",
       "\\end{tabular}\n"
      ],
      "text/markdown": [
       "\n",
       "| cabang | agen | jumlah_hari | total_loan_cair | avg_amount | total_amount |\n",
       "|---|---|---|---|---|---|\n",
       "| AE         | AE-3       | 4.0        | 16         | 310,625    | 4,970,000  |\n",
       "| AE         | AE-2       | 18.0       | 73         | 320,274    | 23,380,000 |\n",
       "| AE         | AE-1       | 21.0       | 86         | 300,581    | 25,850,000 |\n",
       "\n"
      ],
      "text/plain": [
       "  cabang agen jumlah_hari total_loan_cair avg_amount total_amount\n",
       "1 AE     AE-3 4.0         16              310,625    4,970,000   \n",
       "2 AE     AE-2 18.0        73              320,274    23,380,000  \n",
       "3 AE     AE-1 21.0        86              300,581    25,850,000  "
      ]
     },
     "metadata": {},
     "output_type": "display_data"
    }
   ],
   "source": [
    "library(dplyr)\n",
    "library(scales)\n",
    "df_loan_mei_flag %>% \n",
    "  filter(umur == 3, flag == 'rendah') %>% \n",
    "  inner_join(df_loan, by = 'cabang') %>% \n",
    "  filter(tanggal_cair >= '2020-05-01', tanggal_cair <= '2020-05-31') %>% \n",
    "  group_by(cabang, agen) %>% \n",
    "  summarise(jumlah_hari = n_distinct(tanggal_cair),\n",
    "            total_loan_cair = n_distinct(loan_id),\n",
    "            avg_amount = mean(amount), \n",
    "            total_amount = sum(amount)) %>% \n",
    "  arrange(total_amount) %>% \n",
    "  mutate_if(is.numeric, funs(comma))"
   ]
  },
  {
   "cell_type": "markdown",
   "metadata": {},
   "source": [
    "### Lihat perbandingan performa agen pada cabang yang paling baik umur 3 bulan\n",
    "\n",
    "Pada tabel sebelumnya, terlihat pula bahwa ada cabang yang punya 3 agen, tapi performa nya jauh diatas cabang AE, bahkan yang paling tinggi diantara cabang lain pada umur tersebut, lebih tinggi dari yang mempunyai 4 agen cabang tersebut adalah cabang AH.\n",
    "\n",
    "Dengan cara yang hampir sama, akan dilihat bagaimana performa masing-masing agen dari cabang AH tersebut."
   ]
  },
  {
   "cell_type": "code",
   "execution_count": 15,
   "metadata": {},
   "outputs": [
    {
     "name": "stderr",
     "output_type": "stream",
     "text": [
      "`summarise()` regrouping output by 'cabang' (override with `.groups` argument)\n",
      "`mutate_if()` ignored the following grouping variables:\n",
      "Column `cabang`\n"
     ]
    },
    {
     "data": {
      "text/html": [
       "<table>\n",
       "<thead><tr><th scope=col>cabang</th><th scope=col>agen</th><th scope=col>jumlah_hari</th><th scope=col>total_loan_cair</th><th scope=col>avg_amount</th><th scope=col>total_amount</th></tr></thead>\n",
       "<tbody>\n",
       "\t<tr><td>AH        </td><td>AH-3      </td><td>19.0      </td><td>74.0      </td><td>303,649   </td><td>22,470,000</td></tr>\n",
       "\t<tr><td>AH        </td><td>AH-1      </td><td>21.0      </td><td>81.0      </td><td>301,358   </td><td>24,410,000</td></tr>\n",
       "\t<tr><td>AH        </td><td>AH-2      </td><td>21.0      </td><td>86.0      </td><td>313,488   </td><td>26,960,000</td></tr>\n",
       "</tbody>\n",
       "</table>\n"
      ],
      "text/latex": [
       "\\begin{tabular}{r|llllll}\n",
       " cabang & agen & jumlah\\_hari & total\\_loan\\_cair & avg\\_amount & total\\_amount\\\\\n",
       "\\hline\n",
       "\t AH         & AH-3       & 19.0       & 74.0       & 303,649    & 22,470,000\\\\\n",
       "\t AH         & AH-1       & 21.0       & 81.0       & 301,358    & 24,410,000\\\\\n",
       "\t AH         & AH-2       & 21.0       & 86.0       & 313,488    & 26,960,000\\\\\n",
       "\\end{tabular}\n"
      ],
      "text/markdown": [
       "\n",
       "| cabang | agen | jumlah_hari | total_loan_cair | avg_amount | total_amount |\n",
       "|---|---|---|---|---|---|\n",
       "| AH         | AH-3       | 19.0       | 74.0       | 303,649    | 22,470,000 |\n",
       "| AH         | AH-1       | 21.0       | 81.0       | 301,358    | 24,410,000 |\n",
       "| AH         | AH-2       | 21.0       | 86.0       | 313,488    | 26,960,000 |\n",
       "\n"
      ],
      "text/plain": [
       "  cabang agen jumlah_hari total_loan_cair avg_amount total_amount\n",
       "1 AH     AH-3 19.0        74.0            303,649    22,470,000  \n",
       "2 AH     AH-1 21.0        81.0            301,358    24,410,000  \n",
       "3 AH     AH-2 21.0        86.0            313,488    26,960,000  "
      ]
     },
     "metadata": {},
     "output_type": "display_data"
    }
   ],
   "source": [
    "library(dplyr)\n",
    "library(scales)\n",
    "df_loan %>% \n",
    "  filter(cabang == 'AH') %>% \n",
    "  filter(tanggal_cair >= '2020-05-01', tanggal_cair <= '2020-05-31') %>% \n",
    "  group_by(cabang, agen) %>% \n",
    "  summarise(jumlah_hari = n_distinct(tanggal_cair),\n",
    "            total_loan_cair = n_distinct(loan_id),\n",
    "            avg_amount = mean(amount), \n",
    "            total_amount = sum(amount)) %>% \n",
    "  arrange(total_amount) %>% \n",
    "  mutate_if(is.numeric, funs(comma))"
   ]
  },
  {
   "cell_type": "markdown",
   "metadata": {},
   "source": [
    "#### Kesimpulan :\n",
    "Berdasarkan analisis tersebut, dapat disimpulkan bahwa rendahnya performa dari cabang AE adalah karena salah satu agen yang melakukan pencairan hanya 4 hari dalam 1 bulan, padahal agen lain bisa aktif 21 hari. Hal ini membuat total amount dari agen tersebut hanya 20% dibandingkan agen yang lainnya.\n",
    "\n",
    "Sedangkan pada cabang AH, performanya sangat baik karena ketiga agen melakukan pencairan hampir / selalu setiap hari kerja. 2 orang full 21 hari 1 orang 19 hari. Sehingga performa nya terjaga dengan baik.\n",
    "\n",
    "Perlu diperhatikan juga bahwa untuk membandingkan performa cabang itu sebaiknya di kelompokkan dulu berdasarkan karakteristik yang sama. Tidak langsung semua cabang dibandingkan tanpa mengetahui karakteristik nya. Apalagi ketika dalam real world nanti cabang ini bisa terletak di berbeda wilayah (pulau misalnya) yang mempunyai kultur yang berbeda\n",
    "\n",
    "Selanjutnya perlu dianalisis lebih lanjut kenapa ada agen yang hanya aktif beberapa hari saja dalam sebulan. Untuk kedepannya setiap agen agar dipastikan untuk bisa aktif setiap hari nya, sehingga bisa menjaga performa cabang."
   ]
  }
 ],
 "metadata": {
  "kernelspec": {
   "display_name": "R",
   "language": "R",
   "name": "ir"
  },
  "language_info": {
   "codemirror_mode": "r",
   "file_extension": ".r",
   "mimetype": "text/x-r-source",
   "name": "R",
   "pygments_lexer": "r",
   "version": "3.6.1"
  }
 },
 "nbformat": 4,
 "nbformat_minor": 4
}
