{
 "cells": [
  {
   "cell_type": "markdown",
   "metadata": {},
   "source": [
    "# Data Science Project : Analisis Data COVID19 di Dunia dan Asean\n",
    "\n",
    "Covid19 adalah pandemi yang sudah mewabah ke seluruh dunia. Sebagian besar negara-negara di dunia sudah terjangkit. Penanganan tiap-tiap negara pun berbeda, sesuai dengan kebijakan pemerintah. Hal ini mengakibatkan perbedaan trend kenaikan atau penurunan kasus covid berbeda-beda tiap negara.\n",
    "\n",
    "## Library yang akan digunakan\n",
    "\n",
    "1. json\n",
    "2. numpy\n",
    "3. pandas\n",
    "4. requests"
   ]
  },
  {
   "cell_type": "code",
   "execution_count": 1,
   "metadata": {},
   "outputs": [],
   "source": [
    "import json\n",
    "import numpy as np\n",
    "import pandas as pd\n",
    "import requests"
   ]
  },
  {
   "cell_type": "markdown",
   "metadata": {},
   "source": [
    "## Membuat Fungsi get API"
   ]
  },
  {
   "cell_type": "code",
   "execution_count": 2,
   "metadata": {},
   "outputs": [],
   "source": [
    "# Buat fungsi python get_json dengan parameter api_url\n",
    "# dengan kondisi jika status_code=200 maka fungsi tersebut akan mengembalikan value berupa python dictionary\n",
    "# jika tidak, maka value yang dikembalikan adalah None\n",
    "def get_json(api_url):\n",
    "\tresponse = requests.get(api_url)\n",
    "\tif response.status_code == 200:\n",
    "\t\treturn json.loads(response.content.decode('utf-8'))\n",
    "\telse:\n",
    "\t\treturn None"
   ]
  },
  {
   "cell_type": "markdown",
   "metadata": {},
   "source": [
    "## Memanggil API COVID19"
   ]
  },
  {
   "cell_type": "code",
   "execution_count": 3,
   "metadata": {},
   "outputs": [
    {
     "name": "stdout",
     "output_type": "stream",
     "text": [
      "   country          last_update    cases  deaths  recovered\n",
      "0       US  2020-09-12T23:26:14  6479157  193539    2434658\n",
      "1       IN  2020-09-12T23:26:14  4659984   77472    3624196\n",
      "2       BR  2020-09-12T23:26:14  4282164  130396    3695158\n",
      "3       RU  2020-09-12T23:26:14  1053663   18426     871000\n",
      "4       PE  2020-09-12T23:26:14   716670   30470     544745\n",
      "5       CO  2020-09-12T23:26:14   702088   22518     582694\n",
      "6       MX  2020-09-12T23:26:14   658299   70183     547088\n",
      "7       ZA  2020-09-12T23:26:14   648214   15427     576423\n",
      "8       ES  2020-09-12T23:26:14   566326   29747     150376\n",
      "9       AR  2020-09-12T23:26:14   546481   11263     409771\n",
      "10      CL  2020-09-12T23:26:14   432666   11895     404919\n",
      "11      FR  2020-09-12T23:26:14   402810   30902      90445\n",
      "12      IR  2020-09-12T23:26:14   399940   23029     344516\n",
      "13      GB  2020-09-12T23:26:14   367590   41712       1873\n",
      "14      BD  2020-09-12T23:26:14   336044    4702     238271\n",
      "15      SA  2020-09-12T23:26:14   325050    4240     301836\n",
      "16      PK  2020-09-12T23:26:14   300955    6373     288536\n",
      "17      TR  2020-09-12T23:26:14   289635    6999     257731\n",
      "18      IQ  2020-09-12T23:26:14   286778    7941     221283\n",
      "19      IT  2020-09-12T23:26:14   286297   35603     213191\n",
      "20      DE  2020-09-12T23:26:14   260817    9352     231953\n",
      "21      PH  2020-09-12T23:26:14   257863    4292     187116\n",
      "22      ID  2020-09-12T23:26:14   214746    8650     152458\n",
      "23      UA  2020-09-12T23:26:14   155558    3206      70881\n",
      "24      IL  2020-09-12T23:26:14   152722    1103     113496\n"
     ]
    }
   ],
   "source": [
    "# Gunakan parameter record_date untuk mengambil data pada tanggal tertentu\n",
    "# Hasil respon dimasukkan ke variabel df_covid_worldwide\n",
    "# gunakan fungsi pd.io.json.json_normalize untuk mendapatkan dataframe\n",
    "record_date = '2020-09-13'\n",
    "covid_url = 'https://covid19-api.org/api/status?date='+ record_date\n",
    "df_covid_worldwide = pd.json_normalize(get_json(covid_url))\n",
    "\n",
    "print(df_covid_worldwide.head(25))"
   ]
  },
  {
   "cell_type": "markdown",
   "metadata": {},
   "source": [
    "## Merubah Format Date"
   ]
  },
  {
   "cell_type": "code",
   "execution_count": 4,
   "metadata": {},
   "outputs": [],
   "source": [
    "# Gunakan fungsi to_datetime dengan format YYYY-mm-dd HH:MM:SS untuk mengubah format kolom last_update\n",
    "# Gunakan fungsi date() melalui fungsi lambda untuk mengubah bentuk datetime ke bentuk date setiap row-nya\n",
    "df_covid_worldwide['last_update'] = pd.to_datetime(df_covid_worldwide['last_update'], format='%Y-%m-%d %H:%M:%S')\n",
    "df_covid_worldwide['last_update'] = df_covid_worldwide['last_update'].apply(lambda x: x.date())"
   ]
  },
  {
   "cell_type": "markdown",
   "metadata": {},
   "source": [
    "## Mengambil Data Countries"
   ]
  },
  {
   "cell_type": "code",
   "execution_count": 5,
   "metadata": {},
   "outputs": [
    {
     "name": "stdout",
     "output_type": "stream",
     "text": [
      "          name country\n",
      "0  Afghanistan      AF\n",
      "1      Albania      AL\n",
      "2      Algeria      DZ\n",
      "3      Andorra      AD\n",
      "4       Angola      AO\n"
     ]
    }
   ],
   "source": [
    "# Membuat dataframe countries dengan memanggil variable countries_url ke api covid19-api.org\n",
    "# Mengubah nama kolom alpha2 menjadi country, dan hanya mengambil kolom name dan country saja untuk dataframe countries dengan nama variable df_countries\n",
    "countries_url = 'https://covid19-api.org/api/countries'\n",
    "df_countries = pd.json_normalize(get_json(countries_url))\n",
    "df_countries = df_countries.rename(columns={'alpha2': 'country'})[['name','country']]\n",
    "\n",
    "print(df_countries.head())"
   ]
  },
  {
   "cell_type": "markdown",
   "metadata": {},
   "source": [
    "## Merge Data COVID19 dan Coutries"
   ]
  },
  {
   "cell_type": "code",
   "execution_count": 6,
   "metadata": {},
   "outputs": [
    {
     "name": "stdout",
     "output_type": "stream",
     "text": [
      "   country last_update    cases  deaths  recovered  \\\n",
      "0       US  2020-09-12  6479157  193539    2434658   \n",
      "1       IN  2020-09-12  4659984   77472    3624196   \n",
      "2       BR  2020-09-12  4282164  130396    3695158   \n",
      "3       RU  2020-09-12  1053663   18426     871000   \n",
      "4       PE  2020-09-12   716670   30470     544745   \n",
      "5       CO  2020-09-12   702088   22518     582694   \n",
      "6       MX  2020-09-12   658299   70183     547088   \n",
      "7       ZA  2020-09-12   648214   15427     576423   \n",
      "8       ES  2020-09-12   566326   29747     150376   \n",
      "9       AR  2020-09-12   546481   11263     409771   \n",
      "10      CL  2020-09-12   432666   11895     404919   \n",
      "11      FR  2020-09-12   402810   30902      90445   \n",
      "12      IR  2020-09-12   399940   23029     344516   \n",
      "13      GB  2020-09-12   367590   41712       1873   \n",
      "14      BD  2020-09-12   336044    4702     238271   \n",
      "15      SA  2020-09-12   325050    4240     301836   \n",
      "16      PK  2020-09-12   300955    6373     288536   \n",
      "17      TR  2020-09-12   289635    6999     257731   \n",
      "18      IQ  2020-09-12   286778    7941     221283   \n",
      "19      IT  2020-09-12   286297   35603     213191   \n",
      "20      DE  2020-09-12   260817    9352     231953   \n",
      "21      PH  2020-09-12   257863    4292     187116   \n",
      "22      ID  2020-09-12   214746    8650     152458   \n",
      "23      UA  2020-09-12   155558    3206      70881   \n",
      "24      IL  2020-09-12   152722    1103     113496   \n",
      "\n",
      "                                                 name  \n",
      "0                            United States of America  \n",
      "1                                               India  \n",
      "2                                              Brazil  \n",
      "3                                  Russian Federation  \n",
      "4                                                Peru  \n",
      "5                                            Colombia  \n",
      "6                                              Mexico  \n",
      "7                                        South Africa  \n",
      "8                                               Spain  \n",
      "9                                           Argentina  \n",
      "10                                              Chile  \n",
      "11                                             France  \n",
      "12                           Islamic Republic of Iran  \n",
      "13  United Kingdom of Great Britain and Northern I...  \n",
      "14                                         Bangladesh  \n",
      "15                                       Saudi Arabia  \n",
      "16                                           Pakistan  \n",
      "17                                             Turkey  \n",
      "18                                               Iraq  \n",
      "19                                              Italy  \n",
      "20                                            Germany  \n",
      "21                                        Philippines  \n",
      "22                                          Indonesia  \n",
      "23                                            Ukraine  \n",
      "24                                             Israel  \n"
     ]
    }
   ],
   "source": [
    "# Gunakan fungsi merge pada pandas untuk menggabungkan df_covid_worldwide dan df_countries\n",
    "# Gunakan kolom country untuk merge\n",
    "df_covid_denormalized = pd.merge(df_covid_worldwide, df_countries, on='country')\n",
    "\n",
    "print(df_covid_denormalized.head(25))"
   ]
  },
  {
   "cell_type": "markdown",
   "metadata": {},
   "source": [
    "## Menghitung Fatality Ratio\n",
    "\n",
    "Menambahkan satu kolom tambahan yaitu fatality_ratio yang merupakan rasio antara kolom deaths dan cases."
   ]
  },
  {
   "cell_type": "code",
   "execution_count": 7,
   "metadata": {},
   "outputs": [],
   "source": [
    "df_covid_denormalized['fatality_ratio'] = df_covid_denormalized['deaths']/df_covid_denormalized['cases']"
   ]
  },
  {
   "cell_type": "markdown",
   "metadata": {},
   "source": [
    "## Negara-negara dengan Fatality Ratio Tertinggi"
   ]
  },
  {
   "cell_type": "code",
   "execution_count": 8,
   "metadata": {},
   "outputs": [],
   "source": [
    "df_top_20_fatality_rate = df_covid_denormalized.sort_values(by='fatality_ratio', ascending=False).head(20)"
   ]
  },
  {
   "cell_type": "markdown",
   "metadata": {},
   "source": [
    "## Import Library Visualisasi"
   ]
  },
  {
   "cell_type": "code",
   "execution_count": 9,
   "metadata": {},
   "outputs": [],
   "source": [
    "import matplotlib.pyplot as plt"
   ]
  },
  {
   "cell_type": "markdown",
   "metadata": {},
   "source": [
    "## Visualisasi Negara dengan Fatality Ratio Tertinggi"
   ]
  },
  {
   "cell_type": "code",
   "execution_count": 10,
   "metadata": {},
   "outputs": [
    {
     "data": {
      "image/png": "[encoded data removed]",
      "text/plain": [
       "<Figure size 1440x576 with 1 Axes>"
      ]
     },
     "metadata": {
      "needs_background": "light"
     },
     "output_type": "display_data"
    }
   ],
   "source": [
    "# Visualisasi menggunakan bar chart\n",
    "# Label sumbu x diputar 90 derajat untuk menghindari bertumpuknya nama-nama negara pada posisi 0 derajat. \n",
    "import matplotlib.pyplot\n",
    "plt.figure(figsize=(20, 8))\n",
    "x = df_top_20_fatality_rate['name']\n",
    "y = df_top_20_fatality_rate['fatality_ratio']\n",
    "plt.bar(x,y)\n",
    "plt.xlabel('Country Name')\n",
    "plt.ylabel('Fatality Rate')\n",
    "plt.title('Top 20 Highest Fatality Rate Countries')\n",
    "plt.xticks(rotation=90)\n",
    "plt.tight_layout()\n",
    "plt.show()"
   ]
  },
  {
   "cell_type": "markdown",
   "metadata": {},
   "source": [
    "## Menggabungkan Dataframe\n",
    "\n",
    "Membandingkan kasus COVID19 di Indonesia (ID) dengan negara-negara tetangga yaitu \n",
    "\n",
    "    - MY -> Malaysia\n",
    "    - SG -> Singapura\n",
    "    - TH -> Thailand\n",
    "    - VN -> Vietnam"
   ]
  },
  {
   "cell_type": "code",
   "execution_count": 11,
   "metadata": {},
   "outputs": [
    {
     "name": "stdout",
     "output_type": "stream",
     "text": [
      "  country last_update  cases  deaths  recovered\n",
      "0      VN  2020-09-13   1060      35        910\n",
      "1      VN  2020-09-12   1060      35        902\n",
      "2      VN  2020-09-11   1060      35        902\n",
      "3      VN  2020-09-10   1059      35        893\n",
      "4      VN  2020-09-09   1059      35        890\n"
     ]
    }
   ],
   "source": [
    "# API Country dipanggil berkali-kali sebanyak negara yang akan dibandingkan\n",
    "# Gunakan fungsi pd.io.json.json_normalize dan panggil function yang sudah dibuat sebelumnya, yaitu get_json()\n",
    "# Gunakan fungsi datetime untuk merubah string ke bentuk datetime (YYYY-mm-dd HH:MM:SS) dan diubah ke format date\n",
    "countries = ['ID','MY','SG','TH','VN']\n",
    "i = 0\n",
    "for country in countries:\n",
    "\tcovid_timeline_url = 'https://covid19-api.org/api/timeline/'+country\n",
    "\tdf_covid_timeline = pd.json_normalize(get_json(covid_timeline_url))\n",
    "\tdf_covid_timeline['last_update'] = pd.to_datetime(df_covid_timeline['last_update'], format='%Y-%m-%dT%H:%M:%S')\n",
    "\tdf_covid_timeline['last_update'] = df_covid_timeline['last_update'].apply(lambda x: x.date())\n",
    "\tif i==0:\n",
    "\t\tdf_covid_timeline_merged = df_covid_timeline\n",
    "\telse:\n",
    "\t\tdf_covid_timeline_merged = df_covid_timeline.append(df_covid_timeline_merged, ignore_index=True)\n",
    "\ti=i+1\n",
    "\n",
    "print(df_covid_timeline_merged.head())"
   ]
  },
  {
   "cell_type": "markdown",
   "metadata": {},
   "source": [
    "## Merge Data COVID19 dengan Data Country \n"
   ]
  },
  {
   "cell_type": "code",
   "execution_count": 12,
   "metadata": {},
   "outputs": [],
   "source": [
    "df_covid_timeline_denormalized = pd.merge(df_covid_timeline_merged, df_countries, on='country')"
   ]
  },
  {
   "cell_type": "markdown",
   "metadata": {},
   "source": [
    "## Kasus COVID19 di ASEAN"
   ]
  },
  {
   "cell_type": "code",
   "execution_count": 13,
   "metadata": {},
   "outputs": [],
   "source": [
    "import datetime\n",
    "df_covid_timeline_denormalized = df_covid_timeline_denormalized[(df_covid_timeline_denormalized['last_update'] >= datetime.date(2020, 8, 1))]"
   ]
  },
  {
   "cell_type": "markdown",
   "metadata": {},
   "source": [
    "## Visualisasi Kasus COVID19 di ASEAN"
   ]
  },
  {
   "cell_type": "code",
   "execution_count": 14,
   "metadata": {},
   "outputs": [
    {
     "data": {
      "image/png": "[encoded data removed]",
      "text/plain": [
       "<Figure size 864x432 with 1 Axes>"
      ]
     },
     "metadata": {
      "needs_background": "light"
     },
     "output_type": "display_data"
    }
   ],
   "source": [
    "import matplotlib.pyplot as plt\n",
    "plt.figure(figsize=(12, 6))\n",
    "plt.clf()\n",
    "countries = ['ID','MY','SG','TH','VN']\n",
    "for country in countries:\n",
    "\tcountry_data = df_covid_timeline_denormalized['country']==country\n",
    "\tx = df_covid_timeline_denormalized[country_data]['last_update']\n",
    "\ty = df_covid_timeline_denormalized[country_data]['cases']\n",
    "\tplt.plot(x, y, label =country)\n",
    "\n",
    "plt.legend()\n",
    "plt.xlabel('Record Date')\n",
    "plt.ylabel('Total Cases')\n",
    "plt.title('Asean Covid19 Cases Comparison')\n",
    "plt.show()"
   ]
  },
  {
   "cell_type": "code",
   "execution_count": null,
   "metadata": {},
   "outputs": [],
   "source": []
  },
  {
   "cell_type": "code",
   "execution_count": null,
   "metadata": {},
   "outputs": [],
   "source": []
  }
 ],
 "metadata": {
  "kernelspec": {
   "display_name": "Python 3",
   "language": "python",
   "name": "python3"
  },
  "language_info": {
   "codemirror_mode": {
    "name": "ipython",
    "version": 3
   },
   "file_extension": ".py",
   "mimetype": "text/x-python",
   "name": "python",
   "nbconvert_exporter": "python",
   "pygments_lexer": "ipython3",
   "version": "3.8.3"
  }
 },
 "nbformat": 4,
 "nbformat_minor": 4
}
